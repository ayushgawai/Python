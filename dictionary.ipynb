{
  "nbformat": 4,
  "nbformat_minor": 0,
  "metadata": {
    "colab": {
      "provenance": [],
      "authorship_tag": "ABX9TyPCe3rgHxPCOPcwdJk8RITk",
      "include_colab_link": true
    },
    "kernelspec": {
      "name": "python3",
      "display_name": "Python 3"
    },
    "language_info": {
      "name": "python"
    }
  },
  "cells": [
    {
      "cell_type": "markdown",
      "metadata": {
        "id": "view-in-github",
        "colab_type": "text"
      },
      "source": [
        "<a href=\"https://colab.research.google.com/github/ayushgawai/Python/blob/main/dictionary.ipynb\" target=\"_parent\"><img src=\"https://colab.research.google.com/assets/colab-badge.svg\" alt=\"Open In Colab\"/></a>"
      ]
    },
    {
      "cell_type": "code",
      "execution_count": null,
      "metadata": {
        "id": "qIDBKwTF8R9_"
      },
      "outputs": [],
      "source": [
        "my_dict = {\"key\":\"value1\",\"key\":\"value2\",\"key2\":\"value3\"}"
      ]
    },
    {
      "cell_type": "code",
      "source": [
        "#when had duplicate only got the one value which was later one\n",
        "my_dict"
      ],
      "metadata": {
        "colab": {
          "base_uri": "https://localhost:8080/"
        },
        "id": "QwJ5nG3LAqeh",
        "outputId": "bfbfc319-01be-49a9-8ee2-3be6f63dc91b"
      },
      "execution_count": null,
      "outputs": [
        {
          "output_type": "execute_result",
          "data": {
            "text/plain": [
              "{'key': 'value2', 'key2': 'value3'}"
            ]
          },
          "metadata": {},
          "execution_count": 8
        }
      ]
    },
    {
      "cell_type": "code",
      "source": [
        "my_dict[\"key\"]"
      ],
      "metadata": {
        "colab": {
          "base_uri": "https://localhost:8080/",
          "height": 35
        },
        "id": "8ffTiCT3AraQ",
        "outputId": "5dab6d9a-419c-48d2-add1-1f13f38838b9"
      },
      "execution_count": null,
      "outputs": [
        {
          "output_type": "execute_result",
          "data": {
            "text/plain": [
              "'value2'"
            ],
            "application/vnd.google.colaboratory.intrinsic+json": {
              "type": "string"
            }
          },
          "metadata": {},
          "execution_count": 11
        }
      ]
    },
    {
      "cell_type": "code",
      "source": [
        "my_dict[\"key2\"]"
      ],
      "metadata": {
        "colab": {
          "base_uri": "https://localhost:8080/",
          "height": 35
        },
        "id": "peJWqSBnBBdJ",
        "outputId": "5de514eb-84b8-4570-f8f9-1773b445e08c"
      },
      "execution_count": null,
      "outputs": [
        {
          "output_type": "execute_result",
          "data": {
            "text/plain": [
              "'value3'"
            ],
            "application/vnd.google.colaboratory.intrinsic+json": {
              "type": "string"
            }
          },
          "metadata": {},
          "execution_count": 12
        }
      ]
    },
    {
      "cell_type": "code",
      "source": [
        "my_dict2 = {\"1key\":\"value1\",\"1\":\"value2\",\"key2\":\"value3\"}"
      ],
      "metadata": {
        "id": "D5EoiSs9BKgJ"
      },
      "execution_count": null,
      "outputs": []
    },
    {
      "cell_type": "code",
      "source": [
        "my_dict2[\"1key\"]"
      ],
      "metadata": {
        "colab": {
          "base_uri": "https://localhost:8080/",
          "height": 35
        },
        "id": "mkO7B4YGBf7C",
        "outputId": "51299517-4466-4d8f-9a19-740a8d0be40f"
      },
      "execution_count": null,
      "outputs": [
        {
          "output_type": "execute_result",
          "data": {
            "text/plain": [
              "'value1'"
            ],
            "application/vnd.google.colaboratory.intrinsic+json": {
              "type": "string"
            }
          },
          "metadata": {},
          "execution_count": 17
        }
      ]
    },
    {
      "cell_type": "code",
      "source": [
        "my_dict2"
      ],
      "metadata": {
        "colab": {
          "base_uri": "https://localhost:8080/"
        },
        "id": "mx0HwiuuBjFg",
        "outputId": "24b506aa-a3b9-4be8-fb34-e570b265ae18"
      },
      "execution_count": null,
      "outputs": [
        {
          "output_type": "execute_result",
          "data": {
            "text/plain": [
              "{'1key': 'value1', '1': 'value2', 'key2': 'value3'}"
            ]
          },
          "metadata": {},
          "execution_count": 19
        }
      ]
    },
    {
      "cell_type": "code",
      "source": [
        "my_dict2[\"1\"]"
      ],
      "metadata": {
        "colab": {
          "base_uri": "https://localhost:8080/",
          "height": 35
        },
        "id": "rpPJn0S9BupF",
        "outputId": "b2ff988f-b925-4fe7-d8e7-64cb4ff1a398"
      },
      "execution_count": null,
      "outputs": [
        {
          "output_type": "execute_result",
          "data": {
            "text/plain": [
              "'value2'"
            ],
            "application/vnd.google.colaboratory.intrinsic+json": {
              "type": "string"
            }
          },
          "metadata": {},
          "execution_count": 22
        }
      ]
    },
    {
      "cell_type": "code",
      "source": [
        "my_dict2 = {\"1key\":\"2.65\",1:\"value2\",\"key2\":\"value3\"}"
      ],
      "metadata": {
        "id": "9U17UNIjBxu1"
      },
      "execution_count": null,
      "outputs": []
    },
    {
      "cell_type": "code",
      "source": [
        "my_dict2[1]"
      ],
      "metadata": {
        "colab": {
          "base_uri": "https://localhost:8080/",
          "height": 35
        },
        "id": "yvmD5v_uB9zo",
        "outputId": "2f940519-9c2c-4241-ccce-cea61862bc71"
      },
      "execution_count": null,
      "outputs": [
        {
          "output_type": "execute_result",
          "data": {
            "text/plain": [
              "'value2'"
            ],
            "application/vnd.google.colaboratory.intrinsic+json": {
              "type": "string"
            }
          },
          "metadata": {},
          "execution_count": 28
        }
      ]
    },
    {
      "cell_type": "code",
      "source": [
        "my_dict2[\"1key\"]"
      ],
      "metadata": {
        "colab": {
          "base_uri": "https://localhost:8080/",
          "height": 35
        },
        "id": "wxXfyrivB_kO",
        "outputId": "e5765d14-1a19-433c-a4a6-d1d791ac01fb"
      },
      "execution_count": null,
      "outputs": [
        {
          "output_type": "execute_result",
          "data": {
            "text/plain": [
              "'2.65'"
            ],
            "application/vnd.google.colaboratory.intrinsic+json": {
              "type": "string"
            }
          },
          "metadata": {},
          "execution_count": 29
        }
      ]
    },
    {
      "cell_type": "markdown",
      "source": [],
      "metadata": {
        "id": "70pW3llgQYK1"
      }
    },
    {
      "cell_type": "code",
      "source": [
        "my_dict3 = {\"key1\":[1,2,\"a\"],1:\"a\",\"key3\":{\"kk1\":\"kv1\",1:1}}"
      ],
      "metadata": {
        "id": "rA_4d43YCElW"
      },
      "execution_count": null,
      "outputs": []
    },
    {
      "cell_type": "code",
      "source": [
        "my_dict3[\"key3\"][1]"
      ],
      "metadata": {
        "colab": {
          "base_uri": "https://localhost:8080/"
        },
        "id": "YNEgfJmPn9Zz",
        "outputId": "54359626-b663-4a18-82fc-fa4762645207"
      },
      "execution_count": null,
      "outputs": [
        {
          "output_type": "execute_result",
          "data": {
            "text/plain": [
              "1"
            ]
          },
          "metadata": {},
          "execution_count": 41
        }
      ]
    },
    {
      "cell_type": "code",
      "source": [
        "my_dict3[\"key3\"][\"kk1\"]"
      ],
      "metadata": {
        "colab": {
          "base_uri": "https://localhost:8080/",
          "height": 35
        },
        "id": "canaT6w3oI-v",
        "outputId": "7521c9d1-2909-4b3f-b363-fc97a77e163d"
      },
      "execution_count": null,
      "outputs": [
        {
          "output_type": "execute_result",
          "data": {
            "text/plain": [
              "'kv1'"
            ],
            "application/vnd.google.colaboratory.intrinsic+json": {
              "type": "string"
            }
          },
          "metadata": {},
          "execution_count": 42
        }
      ]
    },
    {
      "cell_type": "code",
      "source": [
        "my_dict3[\"key3\"][\"kk1\"].upper()"
      ],
      "metadata": {
        "colab": {
          "base_uri": "https://localhost:8080/",
          "height": 35
        },
        "id": "EF476gi9oZzw",
        "outputId": "4d129f06-4287-48d0-9a8a-fc0521384f1e"
      },
      "execution_count": null,
      "outputs": [
        {
          "output_type": "execute_result",
          "data": {
            "text/plain": [
              "'KV1'"
            ],
            "application/vnd.google.colaboratory.intrinsic+json": {
              "type": "string"
            }
          },
          "metadata": {},
          "execution_count": 43
        }
      ]
    },
    {
      "cell_type": "code",
      "source": [
        "my_dict3[\"key1\"].append(3)"
      ],
      "metadata": {
        "id": "by6mBY9Ho3z0"
      },
      "execution_count": null,
      "outputs": []
    },
    {
      "cell_type": "code",
      "source": [
        "my_dict3"
      ],
      "metadata": {
        "colab": {
          "base_uri": "https://localhost:8080/"
        },
        "id": "S72ryEtCpKwC",
        "outputId": "219586d6-74dd-4a3e-9212-fa1a1d2e3083"
      },
      "execution_count": null,
      "outputs": [
        {
          "output_type": "execute_result",
          "data": {
            "text/plain": [
              "{'key1': [1, 2, 'a', 3], 1: 'a', 'key3': {'kk1': 'kv1', 1: 1}}"
            ]
          },
          "metadata": {},
          "execution_count": 45
        }
      ]
    },
    {
      "cell_type": "code",
      "source": [
        "my_dict3[\"key4\"] = \"Ayush\""
      ],
      "metadata": {
        "id": "FymgheLEpL-y"
      },
      "execution_count": null,
      "outputs": []
    },
    {
      "cell_type": "code",
      "source": [
        "my_dict3"
      ],
      "metadata": {
        "colab": {
          "base_uri": "https://localhost:8080/"
        },
        "id": "inzLQ80frxIM",
        "outputId": "23a1b2c3-2c1e-459a-e93e-9d4fca950221"
      },
      "execution_count": null,
      "outputs": [
        {
          "output_type": "execute_result",
          "data": {
            "text/plain": [
              "{'key1': [1, 2, 'a', 3], 1: 'a', 'key3': {'kk1': 'kv1', 1: 1}, 'key4': 'Ayush'}"
            ]
          },
          "metadata": {},
          "execution_count": 47
        }
      ]
    },
    {
      "cell_type": "code",
      "source": [
        "my_dict3.keys()"
      ],
      "metadata": {
        "colab": {
          "base_uri": "https://localhost:8080/"
        },
        "id": "z3XhSYHRrybH",
        "outputId": "3bd51507-4a7f-4c1f-a84c-39ae74a5f6e2"
      },
      "execution_count": null,
      "outputs": [
        {
          "output_type": "execute_result",
          "data": {
            "text/plain": [
              "dict_keys(['key1', 1, 'key3', 'key4'])"
            ]
          },
          "metadata": {},
          "execution_count": 48
        }
      ]
    },
    {
      "cell_type": "code",
      "source": [
        "my_dict3.values()"
      ],
      "metadata": {
        "colab": {
          "base_uri": "https://localhost:8080/"
        },
        "id": "r_7vNQIosFMU",
        "outputId": "543e5927-d719-4df6-f8b8-b42ef5324f76"
      },
      "execution_count": null,
      "outputs": [
        {
          "output_type": "execute_result",
          "data": {
            "text/plain": [
              "dict_values([[1, 2, 'a', 3], 'a', {'kk1': 'kv1', 1: 1}, 'Ayush'])"
            ]
          },
          "metadata": {},
          "execution_count": 49
        }
      ]
    },
    {
      "cell_type": "code",
      "source": [
        "my_dict2.items()"
      ],
      "metadata": {
        "colab": {
          "base_uri": "https://localhost:8080/"
        },
        "id": "-eBQgWnrsHYg",
        "outputId": "4418a110-bcf3-46a7-ee33-227be4a2eae1"
      },
      "execution_count": null,
      "outputs": [
        {
          "output_type": "execute_result",
          "data": {
            "text/plain": [
              "dict_items([('1key', '2.65'), (1, 'value2'), ('key2', 'value3')])"
            ]
          },
          "metadata": {},
          "execution_count": 50
        }
      ]
    },
    {
      "cell_type": "code",
      "source": [
        "ls = [1,2,3,\"four\"]\n",
        "dictt = {}\n",
        "dictt.update({\"1\":ls})\n",
        "dictt[\"key5\"] = ls"
      ],
      "metadata": {
        "id": "8ZN_LQktsKvA"
      },
      "execution_count": null,
      "outputs": []
    },
    {
      "cell_type": "code",
      "source": [
        "dictt"
      ],
      "metadata": {
        "colab": {
          "base_uri": "https://localhost:8080/"
        },
        "id": "urtGM0WetOrJ",
        "outputId": "326d3dc8-0d87-4f86-92f5-816efabbceda"
      },
      "execution_count": null,
      "outputs": [
        {
          "output_type": "execute_result",
          "data": {
            "text/plain": [
              "{'1': [1, 2, 3, 'four'], 'key5': [1, 2, 3, 'four']}"
            ]
          },
          "metadata": {},
          "execution_count": 64
        }
      ]
    },
    {
      "cell_type": "markdown",
      "source": [
        "Question 1 (Easy):\n",
        "Write a program that takes a string as input and counts the number of occurrences of each character. Store the results in a dictionary where the keys are the characters and the values are their counts."
      ],
      "metadata": {
        "id": "PI7fypshueyI"
      }
    },
    {
      "cell_type": "code",
      "source": [
        "from collections import Counter\n",
        "str1 = \"Hi I am Ayush I am Engineer\"\n",
        "Counter(str1)\n",
        "mydict={}\n",
        "mydict.update(Counter(str1))\n"
      ],
      "metadata": {
        "id": "nbbKqkIDtrBv"
      },
      "execution_count": null,
      "outputs": []
    },
    {
      "cell_type": "code",
      "source": [
        "mydict"
      ],
      "metadata": {
        "colab": {
          "base_uri": "https://localhost:8080/"
        },
        "id": "8pw0fu3puwVb",
        "outputId": "4fdd5b76-3a40-4892-fb88-1bdfc05548d6"
      },
      "execution_count": null,
      "outputs": [
        {
          "output_type": "execute_result",
          "data": {
            "text/plain": [
              "{'H': 1,\n",
              " 'i': 2,\n",
              " ' ': 6,\n",
              " 'I': 2,\n",
              " 'a': 2,\n",
              " 'm': 2,\n",
              " 'A': 1,\n",
              " 'y': 1,\n",
              " 'u': 1,\n",
              " 's': 1,\n",
              " 'h': 1,\n",
              " 'E': 1,\n",
              " 'n': 2,\n",
              " 'g': 1,\n",
              " 'e': 2,\n",
              " 'r': 1}"
            ]
          },
          "metadata": {},
          "execution_count": 76
        }
      ]
    },
    {
      "cell_type": "markdown",
      "source": [
        "Write a program that takes a list of names as input and creates a dictionary where the keys are the names and the values are the lengths of the names. Implement the solution using a dictionary comprehension."
      ],
      "metadata": {
        "id": "zbf1zBfuwIKC"
      }
    },
    {
      "cell_type": "code",
      "source": [
        "my_list = [\"Ayush\", \"Piyush\", \"Raghav\", \"Anurag\", \"Sonu\"]\n",
        "my_dict = {}\n",
        "for i in my_list:\n",
        "  my_dict.update({i:len(i)})\n",
        "my_dict"
      ],
      "metadata": {
        "colab": {
          "base_uri": "https://localhost:8080/"
        },
        "id": "6_D8S-ZRwnVS",
        "outputId": "e394e4a8-5699-4fb1-8819-9fa78bd6ec83"
      },
      "execution_count": null,
      "outputs": [
        {
          "output_type": "execute_result",
          "data": {
            "text/plain": [
              "{'Ayush': 5, 'Piyush': 6, 'Raghav': 6, 'Anurag': 6, 'Sonu': 4}"
            ]
          },
          "metadata": {},
          "execution_count": 116
        }
      ]
    },
    {
      "cell_type": "code",
      "source": [
        "my_list = [\"Ayush\", \"Piyush\", \"Raghav\", \"Anurag\", \"Sonu\"]\n",
        "\n",
        "my_dict = {name:len(name) for name in my_list}\n",
        "my_dict"
      ],
      "metadata": {
        "colab": {
          "base_uri": "https://localhost:8080/"
        },
        "id": "mH4O9aX-worJ",
        "outputId": "af7ddb3a-9098-4a81-9d0a-8713704de5f3"
      },
      "execution_count": null,
      "outputs": [
        {
          "output_type": "execute_result",
          "data": {
            "text/plain": [
              "{'Ayush': 5, 'Piyush': 6, 'Raghav': 6, 'Anurag': 6, 'Sonu': 4}"
            ]
          },
          "metadata": {},
          "execution_count": 126
        }
      ]
    },
    {
      "cell_type": "code",
      "source": [
        "my_list = [\"Ayush\", \"Piyush\", \"Raghav\", \"Anurag\", \"Sonu\"]\n",
        "for name in my_list:\n",
        "  my_dict[name] = len(name)\n",
        "my_dict"
      ],
      "metadata": {
        "colab": {
          "base_uri": "https://localhost:8080/"
        },
        "id": "tsZzfSLXyVCQ",
        "outputId": "9dadfd94-50ef-4552-ff37-64763430130d"
      },
      "execution_count": null,
      "outputs": [
        {
          "output_type": "execute_result",
          "data": {
            "text/plain": [
              "{'Ayush': 5, 'Piyush': 6, 'Raghav': 6, 'Anurag': 6, 'Sonu': 4}"
            ]
          },
          "metadata": {},
          "execution_count": 127
        }
      ]
    },
    {
      "cell_type": "markdown",
      "source": [
        "Write a program that takes two dictionaries as input and merges them into a single dictionary. If there are common keys between the two dictionaries, the values should be concatenated as a list in the merged dictionary. Implement the solution using dictionary operations.\n",
        "\n"
      ],
      "metadata": {
        "id": "oGLS7HtG2W_3"
      }
    },
    {
      "cell_type": "code",
      "source": [
        "my_dict1 = {'Ayush': \"gddd\", 'Piyush': 6, 'Raghav': 6, 'Anurag': 6, 'Sonu': 4}\n",
        "my_dict2 = {'Gawai': 5, 'Bansal': [1,2,3], 'Raghav': {\"k1\":\"v1\",1:1}, 'Anurag': 6, 'Sonu': 4}\n",
        "\n",
        "for item in my_dict1:\n",
        "  if item in my_dict2.keys():\n",
        "    my_dict1[item] = [my_dict1.get(item),my_dict2.get(item)]\n",
        "    my_dict2.pop(item)\n",
        "\n",
        "my_dict1.update(my_dict2)\n",
        "my_dict1"
      ],
      "metadata": {
        "colab": {
          "base_uri": "https://localhost:8080/"
        },
        "id": "50uCyIMX1cBc",
        "outputId": "a61877a0-b970-4a97-fdcf-a0b820cc5f52"
      },
      "execution_count": null,
      "outputs": [
        {
          "output_type": "execute_result",
          "data": {
            "text/plain": [
              "{'Ayush': 'gddd',\n",
              " 'Piyush': 6,\n",
              " 'Raghav': [6, {'k1': 'v1', 1: 1}],\n",
              " 'Anurag': [6, 6],\n",
              " 'Sonu': [4, 4],\n",
              " 'Gawai': 5,\n",
              " 'Bansal': [1, 2, 3]}"
            ]
          },
          "metadata": {},
          "execution_count": 155
        }
      ]
    },
    {
      "cell_type": "code",
      "source": [
        "my_dict1 = {'Ayush': \"gddd\", 'Piyush': 6, 'Raghav': 6, 'Anurag': 6, 'Sonu': 4}\n",
        "my_dict2 = {'Gawai': 5, 'Bansal': [1,2,3], 'Raghav': {\"k1\":\"v1\",1:1}, 'Anurag': 6, 'Sonu': 4}\n",
        "\n",
        "merge_dict = my_dict1.copy()\n",
        "\n",
        "for key, value in my_dict2.items():\n",
        "  if key in merge_dict:\n",
        "    merge_dict[key] = [merge_dict[key],value]\n",
        "  else:\n",
        "    merge_dict[key] = value\n",
        "merge_dict"
      ],
      "metadata": {
        "colab": {
          "base_uri": "https://localhost:8080/"
        },
        "id": "91cU_Bds3HRK",
        "outputId": "a4aa2d20-de67-48f5-f463-8fab37f4d2e1"
      },
      "execution_count": null,
      "outputs": [
        {
          "output_type": "execute_result",
          "data": {
            "text/plain": [
              "{'Ayush': 'gddd',\n",
              " 'Piyush': 6,\n",
              " 'Raghav': [6, {'k1': 'v1', 1: 1}],\n",
              " 'Anurag': [6, 6],\n",
              " 'Sonu': [4, 4],\n",
              " 'Gawai': 5,\n",
              " 'Bansal': [1, 2, 3]}"
            ]
          },
          "metadata": {},
          "execution_count": 169
        }
      ]
    },
    {
      "cell_type": "markdown",
      "source": [
        "Write a program that takes a list of strings as input. Your task is to create a dictionary where the keys are the unique strings from the list, and the values are the count of occurrences of each string in the list. Implement the solution using dictionary operations."
      ],
      "metadata": {
        "id": "YTH-KtilKoYx"
      }
    },
    {
      "cell_type": "code",
      "source": [
        "my_list = [\"Ayush\", \"Piyush\", \"Raghav\", \"Anurag\", \"Sonu\",\"Sonu\"]\n",
        "\n",
        "my_dict = {}\n",
        "my_dict.update(Counter(my_list))\n",
        "my_dict\n"
      ],
      "metadata": {
        "colab": {
          "base_uri": "https://localhost:8080/"
        },
        "id": "BnJgUwji3L_x",
        "outputId": "7a3ba4c7-57f6-4575-c6e2-cde1a62cd534"
      },
      "execution_count": null,
      "outputs": [
        {
          "output_type": "execute_result",
          "data": {
            "text/plain": [
              "{'Ayush': 1, 'Piyush': 1, 'Raghav': 1, 'Anurag': 1, 'Sonu': 2}"
            ]
          },
          "metadata": {},
          "execution_count": 185
        }
      ]
    },
    {
      "cell_type": "code",
      "source": [
        "my_list = [\"Ayush\", \"Piyush\", \"Raghav\", \"Anurag\", \"Sonu\", \"Sonu\"]\n",
        "\n",
        "my_dict ={}\n",
        "for name in my_list:\n",
        "  my_dict[name] = my_dict.get(name,0) + 1\n",
        "my_dict"
      ],
      "metadata": {
        "colab": {
          "base_uri": "https://localhost:8080/"
        },
        "id": "T8T9VTmhIM7H",
        "outputId": "c31ae8fb-3afc-4238-fc40-5fc17437372e"
      },
      "execution_count": null,
      "outputs": [
        {
          "output_type": "execute_result",
          "data": {
            "text/plain": [
              "{'Ayush': 1, 'Piyush': 1, 'Raghav': 1, 'Anurag': 1, 'Sonu': 2}"
            ]
          },
          "metadata": {},
          "execution_count": 191
        }
      ]
    },
    {
      "cell_type": "markdown",
      "source": [
        "Write a program that takes a list of strings as input. Your task is to create a dictionary where the keys are the strings from the list, and the values are lists of indices where each string appears in the list. Implement the solution using dictionary operations."
      ],
      "metadata": {
        "id": "v3Ix5OCyRkl-"
      }
    },
    {
      "cell_type": "code",
      "source": [
        "#it will not find duplicate ones\n",
        "my_list = [\"Ayush\", \"Piyush\", \"Raghav\", \"Sonu\", \"Anurag\", \"Sonu\"]\n",
        "\n",
        "\n",
        "my_dict = {}\n",
        "for key in my_list:\n",
        "  my_dict.update({key:my_list.index(key)})\n",
        "my_dict\n",
        "\n"
      ],
      "metadata": {
        "colab": {
          "base_uri": "https://localhost:8080/"
        },
        "id": "RDwZYP9WMFRj",
        "outputId": "9603f389-d804-4021-c4ad-96650520812e"
      },
      "execution_count": null,
      "outputs": [
        {
          "output_type": "execute_result",
          "data": {
            "text/plain": [
              "{'Ayush': 0, 'Piyush': 1, 'Raghav': 2, 'Sonu': 3, 'Anurag': 4}"
            ]
          },
          "metadata": {},
          "execution_count": 221
        }
      ]
    },
    {
      "cell_type": "code",
      "source": [
        "from collections import defaultdict\n",
        "\n",
        "my_list = [\"Ayush\", \"Piyush\", \"Raghav\", \"Sonu\", \"Anurag\", \"Sonu\"]\n",
        "my_dict = defaultdict(list)\n",
        "my_dict\n",
        "for i, key in enumerate(my_list):\n",
        "    my_dict[key].append(i)\n",
        "\n",
        "my_dict.update(my_dict)\n",
        "my_dict"
      ],
      "metadata": {
        "colab": {
          "base_uri": "https://localhost:8080/"
        },
        "id": "KSQvNfbmRpK7",
        "outputId": "e498bda5-627c-4ac6-8897-3af5dda0637a"
      },
      "execution_count": null,
      "outputs": [
        {
          "output_type": "execute_result",
          "data": {
            "text/plain": [
              "defaultdict(list,\n",
              "            {'Ayush': [0],\n",
              "             'Piyush': [1],\n",
              "             'Raghav': [2],\n",
              "             'Sonu': [3, 5],\n",
              "             'Anurag': [4]})"
            ]
          },
          "metadata": {},
          "execution_count": 230
        }
      ]
    },
    {
      "cell_type": "markdown",
      "source": [
        "Given a dictionary my_dict, write a program to find the key with the maximum value in the dictionary and print it.\n",
        "\n"
      ],
      "metadata": {
        "id": "jWX44MKyXdcS"
      }
    },
    {
      "cell_type": "code",
      "source": [
        "my_dict = {'apple': 10, 'banana': 5, 'cherry': 15, 'durian': 8}\n",
        "\n",
        "my_keys = list(my_dict.keys())\n",
        "my_values = list(my_dict.values())\n",
        "\n",
        "my_keys[my_values.index(max(my_dict.values()))]\n"
      ],
      "metadata": {
        "colab": {
          "base_uri": "https://localhost:8080/",
          "height": 35
        },
        "id": "crf52DuHSvpi",
        "outputId": "9709a786-9fa3-4b6b-a9c4-33acd90dca17"
      },
      "execution_count": null,
      "outputs": [
        {
          "output_type": "execute_result",
          "data": {
            "text/plain": [
              "'cherry'"
            ],
            "application/vnd.google.colaboratory.intrinsic+json": {
              "type": "string"
            }
          },
          "metadata": {},
          "execution_count": 2
        }
      ]
    },
    {
      "cell_type": "code",
      "source": [
        "max(my_dict, key=my_dict.get)"
      ],
      "metadata": {
        "colab": {
          "base_uri": "https://localhost:8080/",
          "height": 35
        },
        "id": "1fCruwupXkeJ",
        "outputId": "e03b47fb-f443-4638-8adb-bed7fe7e4f15"
      },
      "execution_count": null,
      "outputs": [
        {
          "output_type": "execute_result",
          "data": {
            "text/plain": [
              "'cherry'"
            ],
            "application/vnd.google.colaboratory.intrinsic+json": {
              "type": "string"
            }
          },
          "metadata": {},
          "execution_count": 311
        }
      ]
    },
    {
      "cell_type": "code",
      "source": [
        "my_dict = {'apple': 10, 'banana': 5, 'cherry': 15, 'durian': 8}\n",
        "\n",
        "# Retrieve the values from the dictionary\n",
        "values = my_dict.values()\n",
        "\n",
        "# Find the maximum value\n",
        "max_value = max(values)\n",
        "\n",
        "# Find the key corresponding to the maximum value\n",
        "max_key = None\n",
        "for key, value in my_dict.items():\n",
        "    if value == max_value:\n",
        "        max_key = key\n",
        "        break\n",
        "\n",
        "# Print the key with the maximum value\n",
        "print(max_key)\n"
      ],
      "metadata": {
        "colab": {
          "base_uri": "https://localhost:8080/"
        },
        "id": "IOUOMeS2Y4gQ",
        "outputId": "88adb323-7bc8-4328-bfe5-8c551c885142"
      },
      "execution_count": null,
      "outputs": [
        {
          "output_type": "execute_result",
          "data": {
            "text/plain": [
              "[dict_keys(['apple', 'banana', 'cherry', 'durian'])]"
            ]
          },
          "metadata": {},
          "execution_count": 296
        }
      ]
    },
    {
      "cell_type": "markdown",
      "source": [
        "Question: Given a list of strings fruits, write a Python program to count the frequency of each unique fruit in the list and store it in a dictionary fruit_counts. Display the fruit_counts dictionary."
      ],
      "metadata": {
        "id": "FKJQqXNAFfK2"
      }
    },
    {
      "cell_type": "code",
      "source": [
        "from collections import Counter\n",
        "fruits = ['apple', 'banana', 'apple', 'orange', 'banana', 'apple', 'apple']\n",
        "dict(Counter(fruits))\n",
        "\n",
        "# Output:\n",
        "# {'apple': 4, 'banana': 2, 'orange': 1}\n"
      ],
      "metadata": {
        "colab": {
          "base_uri": "https://localhost:8080/"
        },
        "id": "7gN_c_EVcnVg",
        "outputId": "5d7473b1-0c6b-4cc0-8224-c92ad12e458c"
      },
      "execution_count": null,
      "outputs": [
        {
          "output_type": "execute_result",
          "data": {
            "text/plain": [
              "{'apple': 4, 'banana': 2, 'orange': 1}"
            ]
          },
          "metadata": {},
          "execution_count": 18
        }
      ]
    },
    {
      "cell_type": "markdown",
      "source": [
        "Question: Given a dictionary student_scores where the keys are student names and the values are their respective scores, write a Python program to find the student with the highest score. Display the student name and their corresponding score."
      ],
      "metadata": {
        "id": "BSWhCZaIGPQq"
      }
    },
    {
      "cell_type": "code",
      "source": [
        "student_scores = {'Alice': 85, 'Bob': 92, 'Charlie': 78, 'David': 96, 'Eve': 88}\n",
        "\n",
        "max_score = max(student_scores, key=student_scores.get)\n",
        "\n",
        "print(f\"{max_score}:{student_scores[max_score]}\")\n",
        "\n",
        "# Output:\n",
        "# Student with the highest score: David (96)\n"
      ],
      "metadata": {
        "colab": {
          "base_uri": "https://localhost:8080/"
        },
        "id": "Z4njNC3-EQzJ",
        "outputId": "4b02b726-f3ed-42b0-c42b-3a008b857f36"
      },
      "execution_count": null,
      "outputs": [
        {
          "output_type": "stream",
          "name": "stdout",
          "text": [
            "David:96\n"
          ]
        }
      ]
    },
    {
      "cell_type": "markdown",
      "source": [
        "Given a dictionary student_grades where the keys are student names and the values are lists of their respective grades, write a Python program to calculate the average grade for each student and display the results. The average grade should be rounded to two decimal places."
      ],
      "metadata": {
        "id": "oHXoJPMslrhy"
      }
    },
    {
      "cell_type": "code",
      "source": [
        "student_grades = {'Alice': [85, 92, 78, 89], 'Bob': [92, 88, 95, 78], 'Charlie': [78, 90, 85, 87]}\n",
        "for key in student_grades:\n",
        "  print(f\"{key}: {(sum(student_grades[key])/len(student_grades[key])):.2f}\")\n",
        "\n",
        "# Output:\n",
        "# Alice: 86.00\n",
        "# Bob: 88.25\n",
        "# Charlie: 85.00"
      ],
      "metadata": {
        "colab": {
          "base_uri": "https://localhost:8080/"
        },
        "id": "UfcpPpGlGYs7",
        "outputId": "00c5e2d8-32b1-4bfb-84e1-11d814b0f141"
      },
      "execution_count": null,
      "outputs": [
        {
          "output_type": "stream",
          "name": "stdout",
          "text": [
            "Alice: 86.00\n",
            "Bob: 88.25\n",
            "Charlie: 85.00\n"
          ]
        }
      ]
    },
    {
      "cell_type": "code",
      "source": [
        "student_grades = {'Alice': [85, 92, 78, 89], 'Bob': [92, 88, 95, 78], 'Charlie': [78, 90, 85, 87]}\n",
        "for student, grades in student_grades.items():\n",
        "  average_grade = sum(grades)/len(grades)\n",
        "  print(f\"{student}:{average_grade:.2f}\")"
      ],
      "metadata": {
        "colab": {
          "base_uri": "https://localhost:8080/"
        },
        "id": "B1oJQDHLl_T_",
        "outputId": "26af05f8-71d6-447c-ea45-4e42e7d1edf8"
      },
      "execution_count": null,
      "outputs": [
        {
          "output_type": "stream",
          "name": "stdout",
          "text": [
            "Alice:86.00\n",
            "Bob:88.25\n",
            "Charlie:85.00\n"
          ]
        }
      ]
    },
    {
      "cell_type": "markdown",
      "source": [
        "Given a list of words, write a Python program to find the word with the highest frequency. If multiple words have the same highest frequency, return the word that appears first in the list.\n",
        "\n",
        "Example:\n",
        "Input: words = ['apple', 'banana', 'cherry', 'banana', 'apple', 'apple', 'durian']\n",
        "Output: 'apple'"
      ],
      "metadata": {
        "id": "Z8F12WmqwT40"
      }
    },
    {
      "cell_type": "code",
      "source": [
        "from collections import Counter\n",
        "words = ['apple', 'banana', 'cherry', 'banana', 'apple' 'durian']\n",
        "fre = dict(Counter(words))\n",
        "max(fre,key=fre.get)\n"
      ],
      "metadata": {
        "colab": {
          "base_uri": "https://localhost:8080/",
          "height": 35
        },
        "id": "pVHEndyOn4A1",
        "outputId": "58ec5cd5-3923-4841-b479-83a7eedab0eb"
      },
      "execution_count": null,
      "outputs": [
        {
          "output_type": "execute_result",
          "data": {
            "text/plain": [
              "'banana'"
            ],
            "application/vnd.google.colaboratory.intrinsic+json": {
              "type": "string"
            }
          },
          "metadata": {},
          "execution_count": 55
        }
      ]
    },
    {
      "cell_type": "markdown",
      "source": [
        "Sort dictionary based on values\n"
      ],
      "metadata": {
        "id": "xSNbhtBP1ob2"
      }
    },
    {
      "cell_type": "code",
      "source": [
        "student_scores = {'Alice': 85, 'Bob': 92, 'Charlie': 78, 'David': 96, 'Eve': 88}\n",
        "sort_score = sorted(student_scores, key=student_scores.get)\n",
        "\n",
        "d = {}\n",
        "for i in sort_score:\n",
        "  d[i] = student_scores[i]\n",
        "d"
      ],
      "metadata": {
        "colab": {
          "base_uri": "https://localhost:8080/"
        },
        "id": "GbqeNsrj2qdT",
        "outputId": "5c657635-c14d-471a-9646-88a01ed448ba"
      },
      "execution_count": 1,
      "outputs": [
        {
          "output_type": "execute_result",
          "data": {
            "text/plain": [
              "{'Charlie': 78, 'Alice': 85, 'Eve': 88, 'Bob': 92, 'David': 96}"
            ]
          },
          "metadata": {},
          "execution_count": 1
        }
      ]
    },
    {
      "cell_type": "code",
      "source": [
        "dic = {\"key1\":5,\"key2\":10,\"key3\":2}\n",
        "dic1 = {}\n",
        "for i in sorted(dic,key=dic.get):\n",
        "  dic1.update({i:dic.get(i)})\n",
        "  # dic1[i].update(dic.get(i))\n",
        "dic1"
      ],
      "metadata": {
        "colab": {
          "base_uri": "https://localhost:8080/"
        },
        "id": "KtLr52Sm-VA5",
        "outputId": "02723b59-c77a-4d9e-f1bf-030911fabd56"
      },
      "execution_count": null,
      "outputs": [
        {
          "output_type": "execute_result",
          "data": {
            "text/plain": [
              "['Charlie', 'Alice', 'Eve', 'Bob', 'David']"
            ]
          },
          "metadata": {},
          "execution_count": 67
        }
      ]
    },
    {
      "cell_type": "code",
      "source": [],
      "metadata": {
        "id": "BA36318U_DJ4",
        "colab": {
          "base_uri": "https://localhost:8080/"
        },
        "outputId": "ec8ed3ba-238c-45ca-a019-f0c9fd6357d2"
      },
      "execution_count": 2,
      "outputs": [
        {
          "output_type": "execute_result",
          "data": {
            "text/plain": [
              "92"
            ]
          },
          "metadata": {},
          "execution_count": 2
        }
      ]
    },
    {
      "cell_type": "code",
      "source": [],
      "metadata": {
        "id": "_tmDEG3z3kfG"
      },
      "execution_count": null,
      "outputs": []
    }
  ]
}