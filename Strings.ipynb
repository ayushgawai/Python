{
  "nbformat": 4,
  "nbformat_minor": 0,
  "metadata": {
    "colab": {
      "provenance": [],
      "authorship_tag": "ABX9TyNwoRvxP2uSG+jtzshzNS77",
      "include_colab_link": true
    },
    "kernelspec": {
      "name": "python3",
      "display_name": "Python 3"
    },
    "language_info": {
      "name": "python"
    }
  },
  "cells": [
    {
      "cell_type": "markdown",
      "metadata": {
        "id": "view-in-github",
        "colab_type": "text"
      },
      "source": [
        "<a href=\"https://colab.research.google.com/github/ayushgawai/Python/blob/main/Strings.ipynb\" target=\"_parent\"><img src=\"https://colab.research.google.com/assets/colab-badge.svg\" alt=\"Open In Colab\"/></a>"
      ]
    },
    {
      "cell_type": "code",
      "execution_count": 6,
      "metadata": {
        "colab": {
          "base_uri": "https://localhost:8080/"
        },
        "id": "h6nFC9r9UCFI",
        "outputId": "d65978dd-f558-4a97-f469-cdf26d5377fc"
      },
      "outputs": [
        {
          "output_type": "stream",
          "name": "stdout",
          "text": [
            "Hi\n"
          ]
        }
      ],
      "source": [
        "s = \"Hi\"\n",
        "print(s)"
      ]
    },
    {
      "cell_type": "code",
      "source": [
        "s = \"I'm Ayush \\nGawai\"\n",
        "print(s)"
      ],
      "metadata": {
        "colab": {
          "base_uri": "https://localhost:8080/"
        },
        "id": "jEYnJ0rPUKlh",
        "outputId": "f02c300a-f495-4a00-86c8-e588bb9fa487"
      },
      "execution_count": 10,
      "outputs": [
        {
          "output_type": "stream",
          "name": "stdout",
          "text": [
            "I'm Ayush \n",
            "Gawai\n"
          ]
        }
      ]
    },
    {
      "cell_type": "code",
      "source": [
        "len(s)"
      ],
      "metadata": {
        "colab": {
          "base_uri": "https://localhost:8080/"
        },
        "id": "GTNFZbWPaLYR",
        "outputId": "3a588368-54de-4b3d-df19-d02a82726f6a"
      },
      "execution_count": 11,
      "outputs": [
        {
          "output_type": "execute_result",
          "data": {
            "text/plain": [
              "16"
            ]
          },
          "metadata": {},
          "execution_count": 11
        }
      ]
    },
    {
      "cell_type": "code",
      "source": [
        "#Indexing in string\n",
        "s = \"Hello World\"\n",
        "s[8]"
      ],
      "metadata": {
        "colab": {
          "base_uri": "https://localhost:8080/",
          "height": 35
        },
        "id": "4eYHnCGjcN5t",
        "outputId": "2161ff81-3f09-4d25-e95b-b120103988d0"
      },
      "execution_count": 14,
      "outputs": [
        {
          "output_type": "execute_result",
          "data": {
            "text/plain": [
              "'r'"
            ],
            "application/vnd.google.colaboratory.intrinsic+json": {
              "type": "string"
            }
          },
          "metadata": {},
          "execution_count": 14
        }
      ]
    },
    {
      "cell_type": "code",
      "source": [
        "#Reverse Indexing in string\n",
        "s[-2]"
      ],
      "metadata": {
        "colab": {
          "base_uri": "https://localhost:8080/",
          "height": 35
        },
        "id": "bV4P8XFRck1V",
        "outputId": "616cfe07-b6bb-43b9-a124-a82c3b042561"
      },
      "execution_count": 15,
      "outputs": [
        {
          "output_type": "execute_result",
          "data": {
            "text/plain": [
              "'l'"
            ],
            "application/vnd.google.colaboratory.intrinsic+json": {
              "type": "string"
            }
          },
          "metadata": {},
          "execution_count": 15
        }
      ]
    },
    {
      "cell_type": "code",
      "source": [
        "#Slicing in String start:End:Step (End will upto 4 i.e index 4 won't be included)\n",
        "s[0:4]"
      ],
      "metadata": {
        "colab": {
          "base_uri": "https://localhost:8080/",
          "height": 35
        },
        "id": "I4Hos6WLcuz6",
        "outputId": "36288273-c83d-48dd-eabc-e1cfdc6b3590"
      },
      "execution_count": 18,
      "outputs": [
        {
          "output_type": "execute_result",
          "data": {
            "text/plain": [
              "'Hell'"
            ],
            "application/vnd.google.colaboratory.intrinsic+json": {
              "type": "string"
            }
          },
          "metadata": {},
          "execution_count": 18
        }
      ]
    },
    {
      "cell_type": "code",
      "source": [
        "s[6:11]"
      ],
      "metadata": {
        "colab": {
          "base_uri": "https://localhost:8080/",
          "height": 35
        },
        "id": "83hFrFJvc84p",
        "outputId": "77d47a73-6b3f-4328-9239-6b9790dce0bd"
      },
      "execution_count": 21,
      "outputs": [
        {
          "output_type": "execute_result",
          "data": {
            "text/plain": [
              "'World'"
            ],
            "application/vnd.google.colaboratory.intrinsic+json": {
              "type": "string"
            }
          },
          "metadata": {},
          "execution_count": 21
        }
      ]
    },
    {
      "cell_type": "code",
      "source": [
        "#Slicing in string with step, for step = 2 it will skip every second charcter\n",
        "s[0:5:2]"
      ],
      "metadata": {
        "colab": {
          "base_uri": "https://localhost:8080/",
          "height": 35
        },
        "id": "BeTC8wY-dYGk",
        "outputId": "2b9a923b-d44d-4bdc-acd7-da7a7b0aa437"
      },
      "execution_count": 25,
      "outputs": [
        {
          "output_type": "execute_result",
          "data": {
            "text/plain": [
              "'Hlo'"
            ],
            "application/vnd.google.colaboratory.intrinsic+json": {
              "type": "string"
            }
          },
          "metadata": {},
          "execution_count": 25
        }
      ]
    },
    {
      "cell_type": "code",
      "source": [
        "#Slicing in string with reverse step, It will take whole string but will start from end\n",
        "s[::-1]"
      ],
      "metadata": {
        "colab": {
          "base_uri": "https://localhost:8080/",
          "height": 35
        },
        "id": "Q7IPbumudjzv",
        "outputId": "e0d044a0-5b00-47ba-cafc-bb565a719b2a"
      },
      "execution_count": 28,
      "outputs": [
        {
          "output_type": "execute_result",
          "data": {
            "text/plain": [
              "'dlroW olleH'"
            ],
            "application/vnd.google.colaboratory.intrinsic+json": {
              "type": "string"
            }
          },
          "metadata": {},
          "execution_count": 28
        }
      ]
    },
    {
      "cell_type": "code",
      "source": [
        "#Slicing in string with reverse step, It will take whole string but will start from end and skipping second characters\n",
        "s[::-2]"
      ],
      "metadata": {
        "colab": {
          "base_uri": "https://localhost:8080/",
          "height": 35
        },
        "id": "adxr514fd93S",
        "outputId": "64bf1d82-bb6c-474b-c8dd-5d4afbb58613"
      },
      "execution_count": 29,
      "outputs": [
        {
          "output_type": "execute_result",
          "data": {
            "text/plain": [
              "'drWolH'"
            ],
            "application/vnd.google.colaboratory.intrinsic+json": {
              "type": "string"
            }
          },
          "metadata": {},
          "execution_count": 29
        }
      ]
    },
    {
      "cell_type": "code",
      "source": [
        "s[5:0:-1]"
      ],
      "metadata": {
        "colab": {
          "base_uri": "https://localhost:8080/",
          "height": 35
        },
        "id": "pCyC5xq5eaa1",
        "outputId": "2e19e315-a61d-4360-8a08-9d93d3e51387"
      },
      "execution_count": 33,
      "outputs": [
        {
          "output_type": "execute_result",
          "data": {
            "text/plain": [
              "' olle'"
            ],
            "application/vnd.google.colaboratory.intrinsic+json": {
              "type": "string"
            }
          },
          "metadata": {},
          "execution_count": 33
        }
      ]
    },
    {
      "cell_type": "code",
      "source": [
        "#Replace A with Pi\n",
        "s = \"Ayush\"\n",
        "s[0] = \"Pi\"\n",
        "\n",
        "#Since string is immutable we can't change it."
      ],
      "metadata": {
        "colab": {
          "base_uri": "https://localhost:8080/",
          "height": 204
        },
        "id": "lHlRMwdtezKI",
        "outputId": "17fa1588-e90e-43d9-ea12-2f4a4130137a"
      },
      "execution_count": 34,
      "outputs": [
        {
          "output_type": "error",
          "ename": "TypeError",
          "evalue": "ignored",
          "traceback": [
            "\u001b[0;31m---------------------------------------------------------------------------\u001b[0m",
            "\u001b[0;31mTypeError\u001b[0m                                 Traceback (most recent call last)",
            "\u001b[0;32m<ipython-input-34-80194d7e6890>\u001b[0m in \u001b[0;36m<cell line: 3>\u001b[0;34m()\u001b[0m\n\u001b[1;32m      1\u001b[0m \u001b[0;31m#Replace A with Pi\u001b[0m\u001b[0;34m\u001b[0m\u001b[0;34m\u001b[0m\u001b[0m\n\u001b[1;32m      2\u001b[0m \u001b[0ms\u001b[0m \u001b[0;34m=\u001b[0m \u001b[0;34m\"Ayush\"\u001b[0m\u001b[0;34m\u001b[0m\u001b[0;34m\u001b[0m\u001b[0m\n\u001b[0;32m----> 3\u001b[0;31m \u001b[0ms\u001b[0m\u001b[0;34m[\u001b[0m\u001b[0;36m0\u001b[0m\u001b[0;34m]\u001b[0m \u001b[0;34m=\u001b[0m \u001b[0;34m\"Pi\"\u001b[0m\u001b[0;34m\u001b[0m\u001b[0;34m\u001b[0m\u001b[0m\n\u001b[0m",
            "\u001b[0;31mTypeError\u001b[0m: 'str' object does not support item assignment"
          ]
        }
      ]
    },
    {
      "cell_type": "code",
      "source": [
        "\"Pi\" + s[1:]"
      ],
      "metadata": {
        "colab": {
          "base_uri": "https://localhost:8080/",
          "height": 35
        },
        "id": "gkn3_9HjhFsx",
        "outputId": "4993fba2-cbee-46e4-da47-54e2b124c90f"
      },
      "execution_count": 36,
      "outputs": [
        {
          "output_type": "execute_result",
          "data": {
            "text/plain": [
              "'Piyush'"
            ],
            "application/vnd.google.colaboratory.intrinsic+json": {
              "type": "string"
            }
          },
          "metadata": {},
          "execution_count": 36
        }
      ]
    },
    {
      "cell_type": "code",
      "source": [
        "\"2\" + \"2\""
      ],
      "metadata": {
        "colab": {
          "base_uri": "https://localhost:8080/",
          "height": 35
        },
        "id": "P2quI7JvhYFM",
        "outputId": "e9c71fbc-5796-4759-9634-9ea83375bdfc"
      },
      "execution_count": 38,
      "outputs": [
        {
          "output_type": "execute_result",
          "data": {
            "text/plain": [
              "'22'"
            ],
            "application/vnd.google.colaboratory.intrinsic+json": {
              "type": "string"
            }
          },
          "metadata": {},
          "execution_count": 38
        }
      ]
    },
    {
      "cell_type": "code",
      "source": [
        "2 + 2"
      ],
      "metadata": {
        "colab": {
          "base_uri": "https://localhost:8080/"
        },
        "id": "kSv1IRT1hj0G",
        "outputId": "6ec20d5b-826d-4665-fb67-7032ebaf7e14"
      },
      "execution_count": 39,
      "outputs": [
        {
          "output_type": "execute_result",
          "data": {
            "text/plain": [
              "4"
            ]
          },
          "metadata": {},
          "execution_count": 39
        }
      ]
    },
    {
      "cell_type": "code",
      "source": [
        "2 + \"2\""
      ],
      "metadata": {
        "colab": {
          "base_uri": "https://localhost:8080/",
          "height": 169
        },
        "id": "zAb42jD_hnbn",
        "outputId": "bf3bd245-3cb8-44fd-c689-2d7318aae446"
      },
      "execution_count": 40,
      "outputs": [
        {
          "output_type": "error",
          "ename": "TypeError",
          "evalue": "ignored",
          "traceback": [
            "\u001b[0;31m---------------------------------------------------------------------------\u001b[0m",
            "\u001b[0;31mTypeError\u001b[0m                                 Traceback (most recent call last)",
            "\u001b[0;32m<ipython-input-40-80052203e394>\u001b[0m in \u001b[0;36m<cell line: 1>\u001b[0;34m()\u001b[0m\n\u001b[0;32m----> 1\u001b[0;31m \u001b[0;36m2\u001b[0m \u001b[0;34m+\u001b[0m \u001b[0;34m\"2\"\u001b[0m\u001b[0;34m\u001b[0m\u001b[0;34m\u001b[0m\u001b[0m\n\u001b[0m",
            "\u001b[0;31mTypeError\u001b[0m: unsupported operand type(s) for +: 'int' and 'str'"
          ]
        }
      ]
    },
    {
      "cell_type": "code",
      "source": [
        "s.upper()"
      ],
      "metadata": {
        "colab": {
          "base_uri": "https://localhost:8080/",
          "height": 35
        },
        "id": "V13epjL6hofx",
        "outputId": "befc9e55-aee7-4d5e-d610-2fc88ff89bcb"
      },
      "execution_count": 42,
      "outputs": [
        {
          "output_type": "execute_result",
          "data": {
            "text/plain": [
              "'AYUSH'"
            ],
            "application/vnd.google.colaboratory.intrinsic+json": {
              "type": "string"
            }
          },
          "metadata": {},
          "execution_count": 42
        }
      ]
    },
    {
      "cell_type": "code",
      "source": [
        "s.capitalize()"
      ],
      "metadata": {
        "colab": {
          "base_uri": "https://localhost:8080/",
          "height": 35
        },
        "id": "dp9wWV6Ei7MW",
        "outputId": "aa501ecb-dac6-45e1-a95f-2cdb52f5605a"
      },
      "execution_count": 46,
      "outputs": [
        {
          "output_type": "execute_result",
          "data": {
            "text/plain": [
              "'Ayush'"
            ],
            "application/vnd.google.colaboratory.intrinsic+json": {
              "type": "string"
            }
          },
          "metadata": {},
          "execution_count": 46
        }
      ]
    },
    {
      "cell_type": "code",
      "source": [
        "#Splitting string automatically (uses space to split) and converts to list\n",
        "s1 = \"Hi I am Ayush\"\n",
        "s1.split()"
      ],
      "metadata": {
        "colab": {
          "base_uri": "https://localhost:8080/"
        },
        "id": "qZptuKwHjPX2",
        "outputId": "bdd45648-9b41-4e13-9d02-90ef99a583ea"
      },
      "execution_count": 48,
      "outputs": [
        {
          "output_type": "execute_result",
          "data": {
            "text/plain": [
              "['Hi', 'I', 'am', 'Ayush']"
            ]
          },
          "metadata": {},
          "execution_count": 48
        }
      ]
    },
    {
      "cell_type": "code",
      "source": [
        "#Split by giving specific character\n",
        "s1.split('i')"
      ],
      "metadata": {
        "colab": {
          "base_uri": "https://localhost:8080/"
        },
        "id": "uIZMty-ejZai",
        "outputId": "73c09a5a-2d10-4d57-b416-02d306baca84"
      },
      "execution_count": 50,
      "outputs": [
        {
          "output_type": "execute_result",
          "data": {
            "text/plain": [
              "['H', ' I am Ayush']"
            ]
          },
          "metadata": {},
          "execution_count": 50
        }
      ]
    },
    {
      "cell_type": "code",
      "source": [
        "#Format in string to use variables in strings\n",
        "print(\"Inserting string here {} and here {} \".format('hey','hi'))"
      ],
      "metadata": {
        "colab": {
          "base_uri": "https://localhost:8080/"
        },
        "id": "RiNGskyMjo5a",
        "outputId": "8e602482-95ad-497f-c90a-df1d6caf240a"
      },
      "execution_count": 54,
      "outputs": [
        {
          "output_type": "stream",
          "name": "stdout",
          "text": [
            "Inserting string here hey and here hi \n"
          ]
        }
      ]
    },
    {
      "cell_type": "code",
      "source": [
        "print(f\"Inserting string here {s} and here {s1}\")"
      ],
      "metadata": {
        "colab": {
          "base_uri": "https://localhost:8080/"
        },
        "id": "BEShq09rls17",
        "outputId": "702b84ec-e62b-4d3d-e1b9-f2d189d4998d"
      },
      "execution_count": 55,
      "outputs": [
        {
          "output_type": "stream",
          "name": "stdout",
          "text": [
            "Inserting string here Ayush and here Hi I am Ayush\n"
          ]
        }
      ]
    },
    {
      "cell_type": "code",
      "source": [
        "print(\"Animals are {c}, {a} and {b}\".format(a=\"fox\",b=\"cat\",c=\"dog\"))"
      ],
      "metadata": {
        "colab": {
          "base_uri": "https://localhost:8080/"
        },
        "id": "jjyouKaAl87x",
        "outputId": "33955544-a1cc-456a-d7dc-713e19a01683"
      },
      "execution_count": 56,
      "outputs": [
        {
          "output_type": "stream",
          "name": "stdout",
          "text": [
            "Animals are dog, fox and cat\n"
          ]
        }
      ]
    },
    {
      "cell_type": "code",
      "source": [
        "result = 10/56\n",
        "print(\"result is {r:1.2f}\".format(r=result))"
      ],
      "metadata": {
        "colab": {
          "base_uri": "https://localhost:8080/"
        },
        "id": "__XQqFZkmM_A",
        "outputId": "becf0a08-97ac-4801-f04b-5bf1a7bc474c"
      },
      "execution_count": 65,
      "outputs": [
        {
          "output_type": "stream",
          "name": "stdout",
          "text": [
            "result is 0.18\n"
          ]
        }
      ]
    },
    {
      "cell_type": "code",
      "source": [
        "#Precision in string for floating values\n",
        "print(f\"Result is {result:1.5}\")\n"
      ],
      "metadata": {
        "colab": {
          "base_uri": "https://localhost:8080/"
        },
        "id": "EqDpp1xKmgbc",
        "outputId": "0fe8d2cb-01e9-45cd-8dc2-c86b547ffffe"
      },
      "execution_count": 72,
      "outputs": [
        {
          "output_type": "stream",
          "name": "stdout",
          "text": [
            "Result is 0.17857\n"
          ]
        }
      ]
    },
    {
      "cell_type": "code",
      "source": [
        "print(\"result is {result}\")"
      ],
      "metadata": {
        "colab": {
          "base_uri": "https://localhost:8080/"
        },
        "id": "oZFBP9punl61",
        "outputId": "13285e54-73f8-4548-f538-6549d15557e1"
      },
      "execution_count": 73,
      "outputs": [
        {
          "output_type": "stream",
          "name": "stdout",
          "text": [
            "result is {result}\n"
          ]
        }
      ]
    },
    {
      "cell_type": "markdown",
      "source": [
        "Scenario: You have a string message that contains a sentence. Write a program to split the sentence into individual words and store them in a list called words."
      ],
      "metadata": {
        "id": "7uLplxVFBOw9"
      }
    },
    {
      "cell_type": "code",
      "source": [
        "message = \"Hi I am Ayush\"\n",
        "words = message.split()\n",
        "print(words)"
      ],
      "metadata": {
        "colab": {
          "base_uri": "https://localhost:8080/"
        },
        "id": "4o6Bgy9BBS6J",
        "outputId": "33626586-c249-427b-ca68-450dc24c00fd"
      },
      "execution_count": 1,
      "outputs": [
        {
          "output_type": "stream",
          "name": "stdout",
          "text": [
            "['Hi', 'I', 'am', 'Ayush']\n"
          ]
        }
      ]
    },
    {
      "cell_type": "markdown",
      "source": [
        "Scenario: You have a string sentence that contains a sentence with multiple spaces between words. Write a program to replace all consecutive spaces with a single space."
      ],
      "metadata": {
        "id": "XimTwwcMBguT"
      }
    },
    {
      "cell_type": "code",
      "source": [
        "sentence = \"Hi  I  am     Ayush\"\n",
        "modified_sentence = \" \".join(sentence.split())\n",
        "print(modified_sentence)"
      ],
      "metadata": {
        "colab": {
          "base_uri": "https://localhost:8080/"
        },
        "id": "MFrDNXjyBbwS",
        "outputId": "25588629-abdf-4fa7-bae2-825a7c9427ee"
      },
      "execution_count": 16,
      "outputs": [
        {
          "output_type": "stream",
          "name": "stdout",
          "text": [
            "Hi I am Ayush\n"
          ]
        }
      ]
    },
    {
      "cell_type": "markdown",
      "source": [
        "Scenario: You have a string fullname that contains a person's full name in the format \"first_name last_name\". Write a program to extract the first name and last name separately and store them in variables first_name and last_name."
      ],
      "metadata": {
        "id": "a-6Z9WVdBhh2"
      }
    },
    {
      "cell_type": "code",
      "source": [
        "fullname = \"Ayush Gawai\"\n",
        "first_name = fullname.split()[0]\n",
        "last_name = fullname.split()[1]\n",
        "print(f\"{first_name} {last_name}\")"
      ],
      "metadata": {
        "colab": {
          "base_uri": "https://localhost:8080/"
        },
        "id": "yOZuk13sBkMA",
        "outputId": "f4fb002d-773b-40c6-ab8b-5b9ba3f46ccd"
      },
      "execution_count": 9,
      "outputs": [
        {
          "output_type": "stream",
          "name": "stdout",
          "text": [
            "Ayush Gawai\n"
          ]
        }
      ]
    },
    {
      "cell_type": "markdown",
      "source": [
        "Scenario: You have a string sentence that contains a sentence. Write a program to count the occurrences of a specific word in the sentence.\n",
        "\n",
        "\n"
      ],
      "metadata": {
        "id": "HHP2_S42Bk24"
      }
    },
    {
      "cell_type": "code",
      "source": [
        "sentence = \"Hi I am Ayush and I am a Engineer\"\n",
        "sentence.count(\"am\")"
      ],
      "metadata": {
        "colab": {
          "base_uri": "https://localhost:8080/"
        },
        "id": "m2esNnlGDIxy",
        "outputId": "5ab5b31f-ca4d-451e-9d38-5fa87be4ad5e"
      },
      "execution_count": 13,
      "outputs": [
        {
          "output_type": "execute_result",
          "data": {
            "text/plain": [
              "2"
            ]
          },
          "metadata": {},
          "execution_count": 13
        }
      ]
    },
    {
      "cell_type": "markdown",
      "source": [
        "Question: Given a string s = \"Python is a powerful programming language\", write a program to reverse the order of words in the string and store the result in a new string called reversed_s."
      ],
      "metadata": {
        "id": "mJrZi-u0IUgK"
      }
    },
    {
      "cell_type": "code",
      "source": [
        "s = \"Python is a powerful programming language\"\n",
        "s1 = s.split()\n",
        "s1 = s1[::-1]\n",
        "reversed_s = \" \".join(s1)\n",
        "print(reversed_s)"
      ],
      "metadata": {
        "colab": {
          "base_uri": "https://localhost:8080/"
        },
        "id": "52zo6HYEHN5P",
        "outputId": "ae6a1dfe-1be9-47a2-a6c8-f1137045a306"
      },
      "execution_count": 21,
      "outputs": [
        {
          "output_type": "stream",
          "name": "stdout",
          "text": [
            "language programming powerful a is Python\n"
          ]
        }
      ]
    },
    {
      "cell_type": "markdown",
      "source": [
        "Question: Write a program to find the index of the first occurrence of the word \"apple\" in the string sentence = \"I have an apple, and she has an apple too\".:"
      ],
      "metadata": {
        "id": "HdVpvh5CLLz5"
      }
    },
    {
      "cell_type": "code",
      "source": [
        "sentence = \"I have an apple, and she has an apple too\"\n",
        "sentence.find(\"apple\")"
      ],
      "metadata": {
        "colab": {
          "base_uri": "https://localhost:8080/"
        },
        "id": "60RMqQVUIbxh",
        "outputId": "f34e69a0-e061-4bfd-ac62-e7caf56a2842"
      },
      "execution_count": 86,
      "outputs": [
        {
          "output_type": "execute_result",
          "data": {
            "text/plain": [
              "10"
            ]
          },
          "metadata": {},
          "execution_count": 86
        }
      ]
    },
    {
      "cell_type": "markdown",
      "source": [
        "Question: Given a string message = \"Hello, {name}! You have {count} new messages.\", write a program that takes user input for name and count and replaces the placeholders {name} and {count} with the user-provided values using the .format() method."
      ],
      "metadata": {
        "id": "Ht-7qV5SMv8a"
      }
    },
    {
      "cell_type": "code",
      "source": [
        "message = \"Hello, {name}! You have {count} new messages.\"\n",
        "name = input()\n",
        "count = input()\n",
        "print(f\"Hello, {name}! You have {count} new messages.\")"
      ],
      "metadata": {
        "colab": {
          "base_uri": "https://localhost:8080/"
        },
        "id": "NB1B2oAPLXAn",
        "outputId": "c8de4df9-ed2f-415b-dc75-02d829b97b64"
      },
      "execution_count": 41,
      "outputs": [
        {
          "output_type": "stream",
          "name": "stdout",
          "text": [
            "Ayush\n",
            "5\n",
            "Hello, Ayush! You have 5 new messages.\n"
          ]
        }
      ]
    },
    {
      "cell_type": "markdown",
      "source": [
        "Question: Write a program to extract the domain name from a given email address. For example, if the email address is \"john.doe@example.com\", the program should extract and print \"example\" as the domain name."
      ],
      "metadata": {
        "id": "Fvs_de15MxwH"
      }
    },
    {
      "cell_type": "code",
      "source": [
        "email = \"john.doe@example.com\"\n",
        "domain = email.split(\"@\")\n",
        "domain = domain[1].split(\".\")[0]\n",
        "print(domain)"
      ],
      "metadata": {
        "colab": {
          "base_uri": "https://localhost:8080/"
        },
        "id": "KiLQ3uz5M087",
        "outputId": "b8e9488f-1043-4e23-c054-e4bd6a43aef4"
      },
      "execution_count": 47,
      "outputs": [
        {
          "output_type": "stream",
          "name": "stdout",
          "text": [
            "example\n"
          ]
        }
      ]
    },
    {
      "cell_type": "markdown",
      "source": [
        "Question: Write a program to count the occurrences of each word in a given sentence and store the results in a dictionary. For example, if the sentence is \"I have a cat and a dog\", the program should output {'I': 1, 'have': 1, 'a': 2, 'cat': 1, 'and': 1, 'dog': 1}."
      ],
      "metadata": {
        "id": "kDh-d4eBM1Z1"
      }
    },
    {
      "cell_type": "code",
      "source": [
        "from collections import Counter\n",
        "sentence = \"I have a cat and a dog\"\n",
        "s=sentence.split()\n",
        "print(Counter(s))"
      ],
      "metadata": {
        "colab": {
          "base_uri": "https://localhost:8080/"
        },
        "id": "kCDzU8HeM3eC",
        "outputId": "486d073d-fa26-423e-c4f4-0fd03284c492"
      },
      "execution_count": 101,
      "outputs": [
        {
          "output_type": "stream",
          "name": "stdout",
          "text": [
            "Counter({'a': 2, 'I': 1, 'have': 1, 'cat': 1, 'and': 1, 'dog': 1})\n"
          ]
        }
      ]
    },
    {
      "cell_type": "markdown",
      "source": [
        "Question: Given a list of words words = ['apple', 'banana', 'cherry'], write a program to join the words with a comma and a space in between to form a single string.\n",
        "\n",
        "\n"
      ],
      "metadata": {
        "id": "M1q7gWUyM3zH"
      }
    },
    {
      "cell_type": "code",
      "source": [
        "words = ['apple', 'banana', 'cherry']\n",
        "sentence = words[0]\n",
        "for word in words[1:]:\n",
        "  sentence = sentence + \", \" + word\n",
        "print(sentence)"
      ],
      "metadata": {
        "colab": {
          "base_uri": "https://localhost:8080/"
        },
        "id": "DvrP-Am-M52H",
        "outputId": "46cc290e-227f-408b-9172-4c4793e94cb3"
      },
      "execution_count": 82,
      "outputs": [
        {
          "output_type": "stream",
          "name": "stdout",
          "text": [
            "apple, banana, cherry\n"
          ]
        }
      ]
    },
    {
      "cell_type": "code",
      "source": [
        "words = ['apple', 'banana', 'cherry']\n",
        "sentence = \", \".join(words)\n",
        "print(sentence)"
      ],
      "metadata": {
        "colab": {
          "base_uri": "https://localhost:8080/"
        },
        "id": "q9DhFgOlxYUc",
        "outputId": "74e64621-cd8d-4e9d-98ed-18852d485a1b"
      },
      "execution_count": 98,
      "outputs": [
        {
          "output_type": "stream",
          "name": "stdout",
          "text": [
            "apple, banana, cherry\n"
          ]
        }
      ]
    },
    {
      "cell_type": "markdown",
      "source": [
        "Write a program that takes a string as input and counts the number of uppercase letters and lowercase letters in the string. Print the counts separately.\n",
        "\n"
      ],
      "metadata": {
        "id": "IfwHGiiJOqMV"
      }
    },
    {
      "cell_type": "code",
      "source": [
        "s = \"I am Ayush Gawai\"\n",
        "u=0\n",
        "l=0\n",
        "for i in s:\n",
        "  if i.isupper():\n",
        "    u=u+1\n",
        "  if i.islower():\n",
        "    l=l+1\n",
        "\n",
        "print(f\"upper:{u}, lower:{l}\")"
      ],
      "metadata": {
        "colab": {
          "base_uri": "https://localhost:8080/"
        },
        "id": "fxepKj1x7XuR",
        "outputId": "0ee40b16-f54b-49be-9bd2-794ce142414b"
      },
      "execution_count": 125,
      "outputs": [
        {
          "output_type": "stream",
          "name": "stdout",
          "text": [
            "upper:3, lower:10\n"
          ]
        }
      ]
    },
    {
      "cell_type": "code",
      "source": [
        "s = \"I am Ayush Gawai\"\n",
        "upper_count = sum(1 for char in s if char.isupper())\n",
        "lower_count = sum(1 for char in s if char.islower())\n",
        "\n",
        "print(f\"Upper: {upper_count}, Lower: {lower_count}\")\n"
      ],
      "metadata": {
        "colab": {
          "base_uri": "https://localhost:8080/"
        },
        "id": "GrrnXzNHRX3z",
        "outputId": "1f0ed6bf-7099-4bde-dfee-d326fe64af26"
      },
      "execution_count": 121,
      "outputs": [
        {
          "output_type": "stream",
          "name": "stdout",
          "text": [
            "Upper: 3, Lower: 10\n"
          ]
        }
      ]
    },
    {
      "cell_type": "code",
      "source": [],
      "metadata": {
        "id": "r3kPhR-bRvmf"
      },
      "execution_count": null,
      "outputs": []
    }
  ]
}