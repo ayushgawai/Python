{
  "nbformat": 4,
  "nbformat_minor": 0,
  "metadata": {
    "colab": {
      "provenance": [],
      "authorship_tag": "ABX9TyOS8xOFdh6lnUTUTGi3KBUb",
      "include_colab_link": true
    },
    "kernelspec": {
      "name": "python3",
      "display_name": "Python 3"
    },
    "language_info": {
      "name": "python"
    }
  },
  "cells": [
    {
      "cell_type": "markdown",
      "metadata": {
        "id": "view-in-github",
        "colab_type": "text"
      },
      "source": [
        "<a href=\"https://colab.research.google.com/github/ayushgawai/Python/blob/main/statements.ipynb\" target=\"_parent\"><img src=\"https://colab.research.google.com/assets/colab-badge.svg\" alt=\"Open In Colab\"/></a>"
      ]
    },
    {
      "cell_type": "markdown",
      "source": [
        "Write a Python program that takes an integer as input and determines whether it is an odd or even number. The program should display \"Even\" if the number is even, and \"Odd\" if the number is odd"
      ],
      "metadata": {
        "id": "iHV4gyyvm6L7"
      }
    },
    {
      "cell_type": "code",
      "execution_count": 8,
      "metadata": {
        "colab": {
          "base_uri": "https://localhost:8080/"
        },
        "id": "JJHPJwUGjihK",
        "outputId": "41cac8e8-bda1-426e-f0f5-82ec0576447c"
      },
      "outputs": [
        {
          "output_type": "stream",
          "name": "stdout",
          "text": [
            "Odd\n"
          ]
        }
      ],
      "source": [
        "#if elif else\n",
        "num = 1\n",
        "\n",
        "if num == 0:\n",
        "  print(\"neutral\")\n",
        "elif num % 2 == 0:\n",
        "  print(\"Even\")\n",
        "else:\n",
        "  print(\"Odd\")"
      ]
    },
    {
      "cell_type": "code",
      "source": [
        "#for loop\n",
        "a=1\n",
        "for i in range(5+a):\n",
        "  print(\"hi\")"
      ],
      "metadata": {
        "colab": {
          "base_uri": "https://localhost:8080/"
        },
        "id": "AcPRoq8Qjqa1",
        "outputId": "cf24b298-cf63-4187-f5d2-7b2fde9c1081"
      },
      "execution_count": 12,
      "outputs": [
        {
          "output_type": "stream",
          "name": "stdout",
          "text": [
            "hi\n",
            "hi\n",
            "hi\n",
            "hi\n",
            "hi\n",
            "hi\n"
          ]
        }
      ]
    },
    {
      "cell_type": "code",
      "source": [
        "#tuple unapacking\n",
        "my_list = [(1,2),(3,4),(5,6),(7,8)]\n",
        "print(len(my_list))\n",
        "print(my_list[0][0])\n",
        "for a,b in my_list:\n",
        "  print(a)\n",
        "  print(b)"
      ],
      "metadata": {
        "colab": {
          "base_uri": "https://localhost:8080/"
        },
        "id": "gF1CANqVoVJY",
        "outputId": "61060855-1bde-4af3-aa77-764d64b0c5be"
      },
      "execution_count": 25,
      "outputs": [
        {
          "output_type": "stream",
          "name": "stdout",
          "text": [
            "4\n",
            "1\n",
            "1\n",
            "2\n",
            "3\n",
            "4\n",
            "5\n",
            "6\n",
            "7\n",
            "8\n"
          ]
        }
      ]
    },
    {
      "cell_type": "code",
      "source": [
        "#dictionary unpacking\n",
        "\n",
        "my_dict = {\"key1\":1,\"key2\":2}\n",
        "\n",
        "for key , value in my_dict.items():\n",
        "  print(key)\n",
        "  print(value)"
      ],
      "metadata": {
        "colab": {
          "base_uri": "https://localhost:8080/"
        },
        "id": "1d5RVa64omlu",
        "outputId": "d5f457e3-09c2-4951-d3bb-8158d2814e89"
      },
      "execution_count": 42,
      "outputs": [
        {
          "output_type": "stream",
          "name": "stdout",
          "text": [
            "key1\n",
            "1\n",
            "key2\n",
            "2\n"
          ]
        }
      ]
    },
    {
      "cell_type": "code",
      "source": [
        "my_dict = {\"key1\":1,\"key2\":2}\n",
        "\n",
        "for value in my_dict.values():\n",
        "  print(value)"
      ],
      "metadata": {
        "colab": {
          "base_uri": "https://localhost:8080/"
        },
        "id": "zTOYDSLqra8C",
        "outputId": "d583c406-1b90-4bec-c7a2-76f2c18b5616"
      },
      "execution_count": 46,
      "outputs": [
        {
          "output_type": "stream",
          "name": "stdout",
          "text": [
            "1\n",
            "2\n"
          ]
        }
      ]
    },
    {
      "cell_type": "code",
      "source": [
        "my_dict = {\"key1\":1,\"key2\":2}\n",
        "\n",
        "for key in my_dict.keys():\n",
        "  print(key)"
      ],
      "metadata": {
        "colab": {
          "base_uri": "https://localhost:8080/"
        },
        "id": "aMq55EBWtGtd",
        "outputId": "d4e9bcc9-f846-4591-f53f-9f2610e8cb8c"
      },
      "execution_count": 48,
      "outputs": [
        {
          "output_type": "stream",
          "name": "stdout",
          "text": [
            "key1\n",
            "key2\n"
          ]
        }
      ]
    },
    {
      "cell_type": "code",
      "source": [
        "#Sorting dict based on values\n",
        "my_dict = {\"key1\":1,\"key2\":2, \"key3\":1}\n",
        "sorted_dict = {}\n",
        "for key in sorted(my_dict, key=my_dict.get):\n",
        "  sorted_dict[key] = my_dict[key]\n",
        "sorted_dict"
      ],
      "metadata": {
        "colab": {
          "base_uri": "https://localhost:8080/"
        },
        "id": "rxvLord0tQ9o",
        "outputId": "4b1ccec3-3610-4d41-bb2d-7d80849ec395"
      },
      "execution_count": 60,
      "outputs": [
        {
          "output_type": "execute_result",
          "data": {
            "text/plain": [
              "{'key1': 1, 'key3': 1, 'key2': 2}"
            ]
          },
          "metadata": {},
          "execution_count": 60
        }
      ]
    },
    {
      "cell_type": "code",
      "source": [
        "#while loop\n",
        "i =1\n",
        "while (i < 10):\n",
        "  print(i)\n",
        "  i = i+1\n",
        "else:\n",
        "  print(\"out of loop\")"
      ],
      "metadata": {
        "colab": {
          "base_uri": "https://localhost:8080/"
        },
        "id": "E_GTpmfItXe_",
        "outputId": "ae632c21-2ed1-45b7-d60d-36bf6b304ddd"
      },
      "execution_count": 67,
      "outputs": [
        {
          "output_type": "stream",
          "name": "stdout",
          "text": [
            "1\n",
            "2\n",
            "3\n",
            "4\n",
            "5\n",
            "6\n",
            "7\n",
            "8\n",
            "9\n",
            "out of loop\n"
          ]
        }
      ]
    },
    {
      "cell_type": "code",
      "source": [
        "#pass\n",
        "if 1>2:\n",
        ""
      ],
      "metadata": {
        "colab": {
          "base_uri": "https://localhost:8080/",
          "height": 133
        },
        "id": "4a9ZHyHFzshD",
        "outputId": "ed403130-5083-496b-b849-f085b3091a75"
      },
      "execution_count": 71,
      "outputs": [
        {
          "output_type": "error",
          "ename": "SyntaxError",
          "evalue": "ignored",
          "traceback": [
            "\u001b[0;36m  File \u001b[0;32m\"<ipython-input-71-ee7a04b1ab21>\"\u001b[0;36m, line \u001b[0;32m3\u001b[0m\n\u001b[0;31m    \u001b[0m\n\u001b[0m    ^\u001b[0m\n\u001b[0;31mSyntaxError\u001b[0m\u001b[0;31m:\u001b[0m incomplete input\n"
          ]
        }
      ]
    },
    {
      "cell_type": "code",
      "source": [
        "if 1>2:\n",
        "  pass"
      ],
      "metadata": {
        "id": "h6g_Xrtn1pjA"
      },
      "execution_count": 74,
      "outputs": []
    },
    {
      "cell_type": "code",
      "source": [
        "#continue\n",
        "numbers = [1, 2, 3, 4, 5, 6, 7, 8, 9, 10]\n",
        "\n",
        "for num in numbers:\n",
        "    if num % 2 == 0:\n",
        "        continue  # Skip even numbers\n",
        "    print(num)\n"
      ],
      "metadata": {
        "colab": {
          "base_uri": "https://localhost:8080/"
        },
        "id": "9ZSrbbGf1vsH",
        "outputId": "d0cccd0d-1d1a-4796-a220-569dcd8c99b9"
      },
      "execution_count": 73,
      "outputs": [
        {
          "output_type": "stream",
          "name": "stdout",
          "text": [
            "1\n",
            "3\n",
            "5\n",
            "7\n",
            "9\n"
          ]
        }
      ]
    },
    {
      "cell_type": "code",
      "source": [
        "#break\n",
        "numbers = [1, 2, 3, 4, 5, 6, 7, 8, 9, 10]\n",
        "for num in numbers:\n",
        "    if num % 2 == 0:\n",
        "        break  # stops the look on very first even number\n",
        "    print(num)\n"
      ],
      "metadata": {
        "id": "OGwlsz5M2VqL"
      },
      "execution_count": 77,
      "outputs": []
    },
    {
      "cell_type": "code",
      "source": [
        "x = 0\n",
        "\n",
        "while x < 5:\n",
        "  if x ==2:\n",
        "    break\n",
        "  print(x)\n",
        "  x +=1"
      ],
      "metadata": {
        "colab": {
          "base_uri": "https://localhost:8080/"
        },
        "id": "7LeTjATh2jbM",
        "outputId": "db1f0edf-3520-40ec-b282-d526993ccee2"
      },
      "execution_count": 81,
      "outputs": [
        {
          "output_type": "stream",
          "name": "stdout",
          "text": [
            "0\n",
            "1\n"
          ]
        }
      ]
    },
    {
      "cell_type": "code",
      "source": [
        "#range\n",
        "\n",
        "for i in range(3,10,2):\n",
        "  print(i)"
      ],
      "metadata": {
        "colab": {
          "base_uri": "https://localhost:8080/"
        },
        "id": "woNGdlvg23Qz",
        "outputId": "7a21e31f-7f12-4cf2-9082-3dc81e7ec66a"
      },
      "execution_count": 83,
      "outputs": [
        {
          "output_type": "stream",
          "name": "stdout",
          "text": [
            "3\n",
            "5\n",
            "7\n",
            "9\n"
          ]
        }
      ]
    },
    {
      "cell_type": "code",
      "source": [
        "list(range(1,10,1))"
      ],
      "metadata": {
        "colab": {
          "base_uri": "https://localhost:8080/"
        },
        "id": "1apH25kN3mFz",
        "outputId": "5adabfaa-adbc-4dd4-d3e8-70caec5afb8d"
      },
      "execution_count": 86,
      "outputs": [
        {
          "output_type": "execute_result",
          "data": {
            "text/plain": [
              "[1, 2, 3, 4, 5, 6, 7, 8, 9]"
            ]
          },
          "metadata": {},
          "execution_count": 86
        }
      ]
    },
    {
      "cell_type": "code",
      "source": [
        "s = \"Helloo\"\n",
        "\n",
        "for i in s:\n",
        "  print(i)\n",
        "  print(s.index(i))\n",
        "  print(s.find(i))"
      ],
      "metadata": {
        "colab": {
          "base_uri": "https://localhost:8080/"
        },
        "id": "gzZjjNUv3vbN",
        "outputId": "70ff5765-5e46-427b-c58b-02310e0b7ecd"
      },
      "execution_count": 95,
      "outputs": [
        {
          "output_type": "stream",
          "name": "stdout",
          "text": [
            "H\n",
            "0\n",
            "0\n",
            "e\n",
            "1\n",
            "1\n",
            "l\n",
            "2\n",
            "2\n",
            "l\n",
            "2\n",
            "2\n",
            "o\n",
            "4\n",
            "4\n",
            "o\n",
            "4\n",
            "4\n"
          ]
        }
      ]
    },
    {
      "cell_type": "code",
      "source": [
        "#enumerate\n",
        "s = \"Helloo\"\n",
        "d = {}\n",
        "for i,c in enumerate(s):\n",
        "  d.update({i:c})\n",
        "d\n"
      ],
      "metadata": {
        "colab": {
          "base_uri": "https://localhost:8080/"
        },
        "id": "VnlxLo2u4Lre",
        "outputId": "0b26f539-39dd-44ff-a0ea-9019259806ae"
      },
      "execution_count": 108,
      "outputs": [
        {
          "output_type": "execute_result",
          "data": {
            "text/plain": [
              "{0: 'H', 1: 'e', 2: 'l', 3: 'l', 4: 'o', 5: 'o'}"
            ]
          },
          "metadata": {},
          "execution_count": 108
        }
      ]
    },
    {
      "cell_type": "code",
      "source": [
        "#zip\n",
        "\n",
        "for item in zip(d.values(),d.keys()):\n",
        "  print(item)\n"
      ],
      "metadata": {
        "colab": {
          "base_uri": "https://localhost:8080/"
        },
        "id": "bZ46KfkDlznt",
        "outputId": "1a2bd975-34ff-42d8-8d26-e9e7869a4835"
      },
      "execution_count": 112,
      "outputs": [
        {
          "output_type": "stream",
          "name": "stdout",
          "text": [
            "('H', 0)\n",
            "('e', 1)\n",
            "('l', 2)\n",
            "('l', 3)\n",
            "('o', 4)\n",
            "('o', 5)\n"
          ]
        }
      ]
    },
    {
      "cell_type": "code",
      "source": [
        "a = [1,2,3,4]\n",
        "b = ['a','b','c']\n",
        "\n",
        "for item in zip(a,b):\n",
        "  print(item)"
      ],
      "metadata": {
        "colab": {
          "base_uri": "https://localhost:8080/"
        },
        "id": "_GmJ9VIVnUcI",
        "outputId": "79a69cf3-bf19-4c2b-9f3f-b6d022547712"
      },
      "execution_count": 113,
      "outputs": [
        {
          "output_type": "stream",
          "name": "stdout",
          "text": [
            "(1, 'a')\n",
            "(2, 'b')\n",
            "(3, 'c')\n"
          ]
        }
      ]
    },
    {
      "cell_type": "code",
      "source": [
        "a = [1,2,3,4]\n",
        "\n",
        "1 in a\n",
        "5 in a\n"
      ],
      "metadata": {
        "colab": {
          "base_uri": "https://localhost:8080/"
        },
        "id": "biuYPtrT9vKN",
        "outputId": "f7a01246-7104-4223-8972-b0e15f44ea0c"
      },
      "execution_count": 140,
      "outputs": [
        {
          "output_type": "execute_result",
          "data": {
            "text/plain": [
              "False"
            ]
          },
          "metadata": {},
          "execution_count": 140
        }
      ]
    },
    {
      "cell_type": "code",
      "source": [
        "#in\n",
        "tt = {\"key1\":1}\n",
        "1 in tt.values()\n",
        "\"key1\" not in tt.keys()"
      ],
      "metadata": {
        "colab": {
          "base_uri": "https://localhost:8080/"
        },
        "id": "qwXFjY25l0oP",
        "outputId": "33b8061d-fe97-430f-f95f-4b2935b478d8"
      },
      "execution_count": 143,
      "outputs": [
        {
          "output_type": "execute_result",
          "data": {
            "text/plain": [
              "False"
            ]
          },
          "metadata": {},
          "execution_count": 143
        }
      ]
    },
    {
      "cell_type": "markdown",
      "source": [
        "Write a Python program that takes two lists as input: one containing names and the other containing ages. The program should iterate over the lists using zip and enumerate simultaneously, and print the following output for each person: \"Person #index: Name is age years old.\""
      ],
      "metadata": {
        "id": "sxFjbK8_t9Fx"
      }
    },
    {
      "cell_type": "code",
      "source": [
        "names = [\"Alice\", \"Bob\", \"Charlie\"]\n",
        "ages = [25, 30, 35]\n",
        "\n",
        "for (i,[name,age]) in enumerate(zip(names,ages)):\n",
        "  print(f'person {i} {name} is {age} years old')"
      ],
      "metadata": {
        "colab": {
          "base_uri": "https://localhost:8080/"
        },
        "id": "2k1eqTSel20P",
        "outputId": "67080820-91cf-484f-9126-063b18f6ba4e"
      },
      "execution_count": 122,
      "outputs": [
        {
          "output_type": "stream",
          "name": "stdout",
          "text": [
            "person 0 Alice is 25 years old\n",
            "person 1 Bob is 30 years old\n",
            "person 2 Charlie is 35 years old\n"
          ]
        }
      ]
    },
    {
      "cell_type": "markdown",
      "source": [
        "Write a Python program that takes two numbers as input and performs the following tasks:\n",
        "\n",
        "Swap the values of the two numbers using tuple packing and unpacking.\n",
        "Multiply the first number by 2 and assign the result back to the first number.\n",
        "Print the updated values of both numbers.\n",
        "Can you write the code to solve this problem using tuple packing and unpacking concepts?"
      ],
      "metadata": {
        "id": "nzdwc3rTupTD"
      }
    },
    {
      "cell_type": "code",
      "source": [
        "a = 1\n",
        "b = 2\n",
        "\n",
        "(a,b) = (b*2,a)\n",
        "a\n",
        "b"
      ],
      "metadata": {
        "colab": {
          "base_uri": "https://localhost:8080/"
        },
        "id": "SVrYpSgZuMuJ",
        "outputId": "cfffae81-7a22-4bf8-b5a1-caba35cb16e0"
      },
      "execution_count": 132,
      "outputs": [
        {
          "output_type": "execute_result",
          "data": {
            "text/plain": [
              "1"
            ]
          },
          "metadata": {},
          "execution_count": 132
        }
      ]
    },
    {
      "cell_type": "code",
      "source": [
        "#importing library\n",
        "\n",
        "from random import shuffle\n",
        "\n",
        "\n",
        "my_list = [1,2,3,2,1,45,6,3,8]\n",
        "\n",
        "shuffle(my_list)\n",
        "my_list"
      ],
      "metadata": {
        "colab": {
          "base_uri": "https://localhost:8080/"
        },
        "id": "8L5a6cdLu0e5",
        "outputId": "3ecf5677-3c2c-4f16-b685-0689e22d8192"
      },
      "execution_count": 146,
      "outputs": [
        {
          "output_type": "execute_result",
          "data": {
            "text/plain": [
              "[2, 8, 6, 3, 45, 1, 1, 3, 2]"
            ]
          },
          "metadata": {},
          "execution_count": 146
        }
      ]
    },
    {
      "cell_type": "code",
      "source": [
        "from random import randint\n",
        "\n",
        "randint(0,100)\n"
      ],
      "metadata": {
        "colab": {
          "base_uri": "https://localhost:8080/"
        },
        "id": "_D4Wsa45-T7m",
        "outputId": "ecad1909-78c0-48e1-b1e8-33e079b5021d"
      },
      "execution_count": 149,
      "outputs": [
        {
          "output_type": "execute_result",
          "data": {
            "text/plain": [
              "82"
            ]
          },
          "metadata": {},
          "execution_count": 149
        }
      ]
    },
    {
      "cell_type": "code",
      "source": [
        "#input\n",
        "\n",
        "a = input(\"Insert number\")\n",
        "type(a)\n",
        "float(a)\n",
        "int(a)\n"
      ],
      "metadata": {
        "colab": {
          "base_uri": "https://localhost:8080/"
        },
        "id": "KaXjbMxr-904",
        "outputId": "1611e7b8-ea38-4946-ccd1-c6a9de37be4c"
      },
      "execution_count": 154,
      "outputs": [
        {
          "name": "stdout",
          "output_type": "stream",
          "text": [
            "Insert number4\n"
          ]
        },
        {
          "output_type": "execute_result",
          "data": {
            "text/plain": [
              "4"
            ]
          },
          "metadata": {},
          "execution_count": 154
        }
      ]
    },
    {
      "cell_type": "code",
      "source": [
        "#list comprehension\n",
        "\n",
        "mystring = \"Hello\"\n",
        "\n",
        "[letter for letter in mystring]"
      ],
      "metadata": {
        "colab": {
          "base_uri": "https://localhost:8080/"
        },
        "id": "G8fckxLb_I3U",
        "outputId": "3dc9f7e7-2c89-4e77-9176-58e8bc55b6ad"
      },
      "execution_count": 4,
      "outputs": [
        {
          "output_type": "execute_result",
          "data": {
            "text/plain": [
              "['H', 'e', 'l', 'l', 'o']"
            ]
          },
          "metadata": {},
          "execution_count": 4
        }
      ]
    },
    {
      "cell_type": "code",
      "source": [
        "[letter for letter in \"Ayush\"]"
      ],
      "metadata": {
        "colab": {
          "base_uri": "https://localhost:8080/"
        },
        "id": "4y0h8DCyYMgW",
        "outputId": "20b2dbd2-9706-488e-a4ba-38a75795e967"
      },
      "execution_count": 5,
      "outputs": [
        {
          "output_type": "execute_result",
          "data": {
            "text/plain": [
              "['A', 'y', 'u', 's', 'h']"
            ]
          },
          "metadata": {},
          "execution_count": 5
        }
      ]
    },
    {
      "cell_type": "code",
      "source": [
        "a=2\n",
        "[num for num in range(1,10+a,2)]"
      ],
      "metadata": {
        "colab": {
          "base_uri": "https://localhost:8080/"
        },
        "id": "azi_hFZ-YpIQ",
        "outputId": "ab3e049c-c815-4eee-d94d-776c05b4ee3c"
      },
      "execution_count": 7,
      "outputs": [
        {
          "output_type": "execute_result",
          "data": {
            "text/plain": [
              "[1, 3, 5, 7, 9, 11]"
            ]
          },
          "metadata": {},
          "execution_count": 7
        }
      ]
    },
    {
      "cell_type": "code",
      "source": [
        "[num*a for num in range(1,10) if num%2==0]"
      ],
      "metadata": {
        "colab": {
          "base_uri": "https://localhost:8080/"
        },
        "id": "PTDmso7lYyk6",
        "outputId": "f1e21103-3e39-439e-a93f-e4538697815c"
      },
      "execution_count": 9,
      "outputs": [
        {
          "output_type": "execute_result",
          "data": {
            "text/plain": [
              "[4, 8, 12, 16]"
            ]
          },
          "metadata": {},
          "execution_count": 9
        }
      ]
    },
    {
      "cell_type": "code",
      "source": [
        "mylist = []\n",
        "\n",
        "for x in [3,4,5]:\n",
        "  for y in [10,100,1000]:\n",
        "    mylist.append(x*y)\n",
        "mylist\n"
      ],
      "metadata": {
        "colab": {
          "base_uri": "https://localhost:8080/"
        },
        "id": "jmcIZoBhZDlJ",
        "outputId": "13caddf3-9709-4407-b8f3-6b933b09124f"
      },
      "execution_count": 15,
      "outputs": [
        {
          "output_type": "execute_result",
          "data": {
            "text/plain": [
              "[30, 300, 3000, 40, 400, 4000, 50, 500, 5000]"
            ]
          },
          "metadata": {},
          "execution_count": 15
        }
      ]
    },
    {
      "cell_type": "code",
      "source": [
        "[x*y for x in [3,4,5] for y in [10,100,1000] ]"
      ],
      "metadata": {
        "colab": {
          "base_uri": "https://localhost:8080/"
        },
        "id": "4wLImZPfbJkb",
        "outputId": "5e537ca5-aa1d-44ea-8cb8-31620009ae5c"
      },
      "execution_count": 19,
      "outputs": [
        {
          "output_type": "execute_result",
          "data": {
            "text/plain": [
              "[30, 300, 3000, 40, 400, 4000, 50, 500, 5000]"
            ]
          },
          "metadata": {},
          "execution_count": 19
        }
      ]
    },
    {
      "cell_type": "code",
      "source": [],
      "metadata": {
        "id": "OfsFj4QCbmcK"
      },
      "execution_count": null,
      "outputs": []
    }
  ]
}