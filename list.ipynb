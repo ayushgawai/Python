{
  "nbformat": 4,
  "nbformat_minor": 0,
  "metadata": {
    "colab": {
      "provenance": [],
      "authorship_tag": "ABX9TyOZiUzKVfWQn+0poF17+iyU",
      "include_colab_link": true
    },
    "kernelspec": {
      "name": "python3",
      "display_name": "Python 3"
    },
    "language_info": {
      "name": "python"
    }
  },
  "cells": [
    {
      "cell_type": "markdown",
      "metadata": {
        "id": "view-in-github",
        "colab_type": "text"
      },
      "source": [
        "<a href=\"https://colab.research.google.com/github/ayushgawai/Python/blob/main/list.ipynb\" target=\"_parent\"><img src=\"https://colab.research.google.com/assets/colab-badge.svg\" alt=\"Open In Colab\"/></a>"
      ]
    },
    {
      "cell_type": "code",
      "execution_count": 2,
      "metadata": {
        "colab": {
          "base_uri": "https://localhost:8080/"
        },
        "id": "qKoNSRqFUVwy",
        "outputId": "93bcbb60-5b40-4903-9336-d61880e2552c"
      },
      "outputs": [
        {
          "output_type": "execute_result",
          "data": {
            "text/plain": [
              "['1', 2, 'three', 'four']"
            ]
          },
          "metadata": {},
          "execution_count": 2
        }
      ],
      "source": [
        "my_list = [\"1\",2,\"three\",\"four\"]\n",
        "my_list"
      ]
    },
    {
      "cell_type": "code",
      "source": [
        "#It is mutable unlike string, so we can change any element at any position\n",
        "my_list[3] = 4"
      ],
      "metadata": {
        "id": "5jK5dGJAU97Z"
      },
      "execution_count": 3,
      "outputs": []
    },
    {
      "cell_type": "code",
      "source": [
        "my_list"
      ],
      "metadata": {
        "colab": {
          "base_uri": "https://localhost:8080/"
        },
        "id": "FfVgHVzNVET7",
        "outputId": "bd50f293-2fe4-4f38-a7fb-90275e0a1d78"
      },
      "execution_count": 4,
      "outputs": [
        {
          "output_type": "execute_result",
          "data": {
            "text/plain": [
              "['1', 2, 'three', 4]"
            ]
          },
          "metadata": {},
          "execution_count": 4
        }
      ]
    },
    {
      "cell_type": "code",
      "source": [
        "my_list.append(5)"
      ],
      "metadata": {
        "id": "6qutj1hmVFm1"
      },
      "execution_count": 5,
      "outputs": []
    },
    {
      "cell_type": "code",
      "source": [
        "my_list"
      ],
      "metadata": {
        "colab": {
          "base_uri": "https://localhost:8080/"
        },
        "id": "4p3_iIAJVUHK",
        "outputId": "8ab6ac29-91ba-4822-89ad-331385442a3c"
      },
      "execution_count": 6,
      "outputs": [
        {
          "output_type": "execute_result",
          "data": {
            "text/plain": [
              "['1', 2, 'three', 4, 5]"
            ]
          },
          "metadata": {},
          "execution_count": 6
        }
      ]
    },
    {
      "cell_type": "code",
      "source": [
        "#second last element from list\n",
        "my_list[::-1][1]"
      ],
      "metadata": {
        "colab": {
          "base_uri": "https://localhost:8080/"
        },
        "id": "29U1GKnSVVAz",
        "outputId": "c55a0094-d3fe-43c7-f51f-6877d891a3dd"
      },
      "execution_count": 11,
      "outputs": [
        {
          "output_type": "execute_result",
          "data": {
            "text/plain": [
              "4"
            ]
          },
          "metadata": {},
          "execution_count": 11
        }
      ]
    },
    {
      "cell_type": "code",
      "source": [
        "my_list.pop(1)"
      ],
      "metadata": {
        "colab": {
          "base_uri": "https://localhost:8080/"
        },
        "id": "i3D7O3JLVhix",
        "outputId": "09ee2eed-a0e8-4e40-dc6a-fe6351013eea"
      },
      "execution_count": 14,
      "outputs": [
        {
          "output_type": "execute_result",
          "data": {
            "text/plain": [
              "2"
            ]
          },
          "metadata": {},
          "execution_count": 14
        }
      ]
    },
    {
      "cell_type": "code",
      "source": [
        "my_list = [1,2,3,4,\"five\",\"six\",7]\n",
        "num_list = [1,2,3,4,7,1,2]\n",
        "char_list = [\"a\",'x','t',\"h\",\"5\"]"
      ],
      "metadata": {
        "id": "stNQx2GuV7UP"
      },
      "execution_count": 19,
      "outputs": []
    },
    {
      "cell_type": "code",
      "source": [
        "num_list.sort()\n",
        "num_list"
      ],
      "metadata": {
        "colab": {
          "base_uri": "https://localhost:8080/"
        },
        "id": "PDVVj2RWV8w8",
        "outputId": "d336a67a-ef0c-44b0-8132-c2bc943fe243"
      },
      "execution_count": 21,
      "outputs": [
        {
          "output_type": "execute_result",
          "data": {
            "text/plain": [
              "[1, 1, 2, 2, 3, 4, 7]"
            ]
          },
          "metadata": {},
          "execution_count": 21
        }
      ]
    },
    {
      "cell_type": "code",
      "source": [
        "char_list.sort()\n",
        "char_list"
      ],
      "metadata": {
        "colab": {
          "base_uri": "https://localhost:8080/"
        },
        "id": "Nw947vY2WbDd",
        "outputId": "68206178-4c37-47f6-e1b0-663ffbb9476d"
      },
      "execution_count": 22,
      "outputs": [
        {
          "output_type": "execute_result",
          "data": {
            "text/plain": [
              "['5', 'a', 'h', 't', 'x']"
            ]
          },
          "metadata": {},
          "execution_count": 22
        }
      ]
    },
    {
      "cell_type": "code",
      "source": [
        "char_list.reverse()\n",
        "char_list"
      ],
      "metadata": {
        "colab": {
          "base_uri": "https://localhost:8080/"
        },
        "id": "Ly101TMhWnB0",
        "outputId": "ce86af77-0229-4b05-f710-e52a31c71c81"
      },
      "execution_count": 23,
      "outputs": [
        {
          "output_type": "execute_result",
          "data": {
            "text/plain": [
              "['x', 't', 'h', 'a', '5']"
            ]
          },
          "metadata": {},
          "execution_count": 23
        }
      ]
    },
    {
      "cell_type": "code",
      "source": [
        "my_list.reverse()\n",
        "my_list"
      ],
      "metadata": {
        "colab": {
          "base_uri": "https://localhost:8080/"
        },
        "id": "G2N8G66rWrPX",
        "outputId": "063d4353-ed7b-4587-c5af-649624f5c26b"
      },
      "execution_count": 24,
      "outputs": [
        {
          "output_type": "execute_result",
          "data": {
            "text/plain": [
              "[7, 'six', 'five', 4, 3, 2, 1]"
            ]
          },
          "metadata": {},
          "execution_count": 24
        }
      ]
    },
    {
      "cell_type": "code",
      "source": [
        "my_list[::-1]"
      ],
      "metadata": {
        "colab": {
          "base_uri": "https://localhost:8080/"
        },
        "id": "PxOL4Ds5Wv9V",
        "outputId": "00d4b68b-d1e2-477d-ca07-29fa67d87522"
      },
      "execution_count": 26,
      "outputs": [
        {
          "output_type": "execute_result",
          "data": {
            "text/plain": [
              "[1, 2, 3, 4, 'five', 'six', 7]"
            ]
          },
          "metadata": {},
          "execution_count": 26
        }
      ]
    },
    {
      "cell_type": "code",
      "source": [
        "my_list"
      ],
      "metadata": {
        "colab": {
          "base_uri": "https://localhost:8080/"
        },
        "id": "OAHDZJbfW0NL",
        "outputId": "89912c05-37a4-4589-bd8d-cf4bdbcaf8ba"
      },
      "execution_count": 28,
      "outputs": [
        {
          "output_type": "execute_result",
          "data": {
            "text/plain": [
              "[7, 'six', 'five', 4, 3, 2, 1]"
            ]
          },
          "metadata": {},
          "execution_count": 28
        }
      ]
    },
    {
      "cell_type": "code",
      "source": [
        "my_list[4:2:-1]"
      ],
      "metadata": {
        "colab": {
          "base_uri": "https://localhost:8080/"
        },
        "id": "Hxd9-w_bW3KW",
        "outputId": "6bcfdee2-8a69-4f5e-cc21-6fe8b1c01448"
      },
      "execution_count": 38,
      "outputs": [
        {
          "output_type": "execute_result",
          "data": {
            "text/plain": [
              "[3, 4]"
            ]
          },
          "metadata": {},
          "execution_count": 38
        }
      ]
    },
    {
      "cell_type": "markdown",
      "source": [
        "Write a program that takes a list of numbers as input and prints the sum of all the even numbers in the list."
      ],
      "metadata": {
        "id": "gbQk6NCyZJoz"
      }
    },
    {
      "cell_type": "code",
      "source": [
        "ls = [1,2,3,4,7,6,43,8,20]\n",
        "sum = 0\n",
        "for i in ls:\n",
        "  if i%2==0:\n",
        "    sum = sum +i\n",
        "sum"
      ],
      "metadata": {
        "colab": {
          "base_uri": "https://localhost:8080/"
        },
        "id": "yXnTmCdiXFlp",
        "outputId": "7919ece1-0d8c-447e-f530-08ed9069302c"
      },
      "execution_count": 44,
      "outputs": [
        {
          "output_type": "execute_result",
          "data": {
            "text/plain": [
              "40"
            ]
          },
          "metadata": {},
          "execution_count": 44
        }
      ]
    },
    {
      "cell_type": "markdown",
      "source": [
        "Write a program that takes a list of words as input and returns a new list containing only the words that start with the letter 'A'. Ignore case sensitivity, meaning both uppercase and lowercase 'A' should be considered.\n",
        "\n"
      ],
      "metadata": {
        "id": "kkWdZb7BaEkZ"
      }
    },
    {
      "cell_type": "code",
      "source": [
        "ls = [\"Ayush\", \"Akash\", \"Birla\", \"Ambani\", \"Steve Jobs\", \"anna\"]\n",
        "new_list = []\n",
        "for i in ls:\n",
        "  if i[0] == \"a\" or i[0] == \"A\":\n",
        "    new_list.append(i)\n",
        "new_list"
      ],
      "metadata": {
        "colab": {
          "base_uri": "https://localhost:8080/"
        },
        "id": "n2S_IHFHZacw",
        "outputId": "649cb93e-7c0a-4ad0-98e1-d9ed01674081"
      },
      "execution_count": 46,
      "outputs": [
        {
          "output_type": "execute_result",
          "data": {
            "text/plain": [
              "['Ayush', 'Akash', 'Ambani', 'anna']"
            ]
          },
          "metadata": {},
          "execution_count": 46
        }
      ]
    },
    {
      "cell_type": "code",
      "source": [
        "ls = [\"Ayush\", \"Akash\", \"Birla\", \"Ambani\", \"Steve Jobs\", \"anna\"]\n",
        "new_list=[word for word in ls if word.lower().startswith(\"a\")]\n",
        "new_list"
      ],
      "metadata": {
        "colab": {
          "base_uri": "https://localhost:8080/"
        },
        "id": "qo80-u6Wapkk",
        "outputId": "70a40fc6-c044-4089-de30-734b96b2f8c5"
      },
      "execution_count": 56,
      "outputs": [
        {
          "output_type": "execute_result",
          "data": {
            "text/plain": [
              "['Ayush', 'Akash', 'Ambani', 'anna']"
            ]
          },
          "metadata": {},
          "execution_count": 56
        }
      ]
    },
    {
      "cell_type": "markdown",
      "source": [
        "Write a program that takes a list of integers as input and returns a new list containing only the even numbers from the original list. Implement the solution using a list comprehension."
      ],
      "metadata": {
        "id": "vxAwp1JAhHlN"
      }
    },
    {
      "cell_type": "code",
      "source": [
        "num_list = [1,2,3,5,3,2,4,5,90,54,3]\n",
        "even_list = [num for num in num_list if num%2==0]\n"
      ],
      "metadata": {
        "id": "C4y9dW5gbmag"
      },
      "execution_count": 57,
      "outputs": []
    },
    {
      "cell_type": "code",
      "source": [
        "even_list"
      ],
      "metadata": {
        "colab": {
          "base_uri": "https://localhost:8080/"
        },
        "id": "lEJJjFubhg-5",
        "outputId": "5698979b-1433-4987-800e-38548f0aaf6a"
      },
      "execution_count": 58,
      "outputs": [
        {
          "output_type": "execute_result",
          "data": {
            "text/plain": [
              "[2, 2, 4, 90, 54]"
            ]
          },
          "metadata": {},
          "execution_count": 58
        }
      ]
    },
    {
      "cell_type": "markdown",
      "source": [
        "Given a list of integers, write a program to find the maximum and minimum elements present in the list. Implement the solution using Python."
      ],
      "metadata": {
        "id": "w5gofu_uk8C5"
      }
    },
    {
      "cell_type": "code",
      "source": [
        "num_list = [1,2,3,5,3,2,4,5,90,54,3]\n",
        "num_list.sort()\n",
        "print(num_list[0])\n",
        "num_list.reverse()\n",
        "print(num_list[0])"
      ],
      "metadata": {
        "colab": {
          "base_uri": "https://localhost:8080/"
        },
        "id": "h4zfJmuEhjWg",
        "outputId": "ea1132d5-dfad-472c-b1bd-95fde4fd48bf"
      },
      "execution_count": 84,
      "outputs": [
        {
          "output_type": "stream",
          "name": "stdout",
          "text": [
            "1\n",
            "90\n"
          ]
        }
      ]
    },
    {
      "cell_type": "code",
      "source": [
        "num_list = [1, 2, 3, 5, 3, 2, 4, 5, 90, 54, 3]\n",
        "\n",
        "minimum = min(num_list)\n",
        "maximum = max(num_list)\n",
        "\n",
        "print(\"Minimum:\", minimum)\n",
        "print(\"Maximum:\", maximum)"
      ],
      "metadata": {
        "colab": {
          "base_uri": "https://localhost:8080/",
          "height": 240
        },
        "id": "-LVFTufUlJ34",
        "outputId": "f1e283f2-494c-455a-8bf9-0f88f2780148"
      },
      "execution_count": 85,
      "outputs": [
        {
          "output_type": "error",
          "ename": "TypeError",
          "evalue": "ignored",
          "traceback": [
            "\u001b[0;31m---------------------------------------------------------------------------\u001b[0m",
            "\u001b[0;31mTypeError\u001b[0m                                 Traceback (most recent call last)",
            "\u001b[0;32m<ipython-input-85-8883280f01ac>\u001b[0m in \u001b[0;36m<cell line: 3>\u001b[0;34m()\u001b[0m\n\u001b[1;32m      1\u001b[0m \u001b[0mnum_list\u001b[0m \u001b[0;34m=\u001b[0m \u001b[0;34m[\u001b[0m\u001b[0;36m1\u001b[0m\u001b[0;34m,\u001b[0m \u001b[0;36m2\u001b[0m\u001b[0;34m,\u001b[0m \u001b[0;36m3\u001b[0m\u001b[0;34m,\u001b[0m \u001b[0;36m5\u001b[0m\u001b[0;34m,\u001b[0m \u001b[0;36m3\u001b[0m\u001b[0;34m,\u001b[0m \u001b[0;36m2\u001b[0m\u001b[0;34m,\u001b[0m \u001b[0;36m4\u001b[0m\u001b[0;34m,\u001b[0m \u001b[0;36m5\u001b[0m\u001b[0;34m,\u001b[0m \u001b[0;36m90\u001b[0m\u001b[0;34m,\u001b[0m \u001b[0;36m54\u001b[0m\u001b[0;34m,\u001b[0m \u001b[0;36m3\u001b[0m\u001b[0;34m]\u001b[0m\u001b[0;34m\u001b[0m\u001b[0;34m\u001b[0m\u001b[0m\n\u001b[1;32m      2\u001b[0m \u001b[0;34m\u001b[0m\u001b[0m\n\u001b[0;32m----> 3\u001b[0;31m \u001b[0mminimum\u001b[0m \u001b[0;34m=\u001b[0m \u001b[0mmin\u001b[0m\u001b[0;34m(\u001b[0m\u001b[0mnum_list\u001b[0m\u001b[0;34m)\u001b[0m\u001b[0;34m\u001b[0m\u001b[0;34m\u001b[0m\u001b[0m\n\u001b[0m\u001b[1;32m      4\u001b[0m \u001b[0mmaximum\u001b[0m \u001b[0;34m=\u001b[0m \u001b[0mmax\u001b[0m\u001b[0;34m(\u001b[0m\u001b[0mnum_list\u001b[0m\u001b[0;34m)\u001b[0m\u001b[0;34m\u001b[0m\u001b[0;34m\u001b[0m\u001b[0m\n\u001b[1;32m      5\u001b[0m \u001b[0;34m\u001b[0m\u001b[0m\n",
            "\u001b[0;31mTypeError\u001b[0m: 'NoneType' object is not callable"
          ]
        }
      ]
    },
    {
      "cell_type": "markdown",
      "source": [
        "Write a program that takes a list of strings as input and creates a new list containing the lengths of each string. Implement the solution using a list comprehension."
      ],
      "metadata": {
        "id": "v_GB3tsknrSf"
      }
    },
    {
      "cell_type": "code",
      "source": [
        "str_list = [\"Ayush\", 'Gawai', \"Piyush\", \"Raunak\"]\n",
        "str_length = [len(word) for word in str_list]\n",
        "str_length"
      ],
      "metadata": {
        "colab": {
          "base_uri": "https://localhost:8080/"
        },
        "id": "BFpPP51BlmYj",
        "outputId": "b3811bd7-5ba8-4792-9911-3c207e93fcb0"
      },
      "execution_count": 89,
      "outputs": [
        {
          "output_type": "execute_result",
          "data": {
            "text/plain": [
              "[5, 5, 6, 6]"
            ]
          },
          "metadata": {},
          "execution_count": 89
        }
      ]
    },
    {
      "cell_type": "markdown",
      "source": [
        "Write a program that takes a list of numbers as input and removes all the duplicates, resulting in a new list with only unique elements. Implement the solution using a set."
      ],
      "metadata": {
        "id": "jhwX_FSYQgdJ"
      }
    },
    {
      "cell_type": "code",
      "source": [
        "num_list = [1,2,2,3,5,2,1,6,2,3]\n",
        "num_set = set(num_list)\n",
        "num_set"
      ],
      "metadata": {
        "colab": {
          "base_uri": "https://localhost:8080/"
        },
        "id": "ZiBV3G3yQf1F",
        "outputId": "8ff58b15-b845-41fd-bd11-491593f9ef93"
      },
      "execution_count": 2,
      "outputs": [
        {
          "output_type": "execute_result",
          "data": {
            "text/plain": [
              "{1, 2, 3, 5, 6}"
            ]
          },
          "metadata": {},
          "execution_count": 2
        }
      ]
    },
    {
      "cell_type": "markdown",
      "source": [
        "Write a program that takes a list of strings as input and concatenates them into a single string, separated by a space. Implement the solution using the join() method."
      ],
      "metadata": {
        "id": "gnQ6vGehQ7Yx"
      }
    },
    {
      "cell_type": "code",
      "source": [
        "str_list = [\"Ayush\",\"Gawai\",\"Data\",\"Engineer\",\"Nagpur\"]\n",
        "\n",
        "string = \", \".join(str_list)\n",
        "string"
      ],
      "metadata": {
        "colab": {
          "base_uri": "https://localhost:8080/",
          "height": 35
        },
        "id": "ZLT7Zw_jog3k",
        "outputId": "4ebb8744-44bc-47d2-d7ed-d15deae1ad57"
      },
      "execution_count": 3,
      "outputs": [
        {
          "output_type": "execute_result",
          "data": {
            "text/plain": [
              "'Ayush, Gawai, Data, Engineer, Nagpur'"
            ],
            "application/vnd.google.colaboratory.intrinsic+json": {
              "type": "string"
            }
          },
          "metadata": {},
          "execution_count": 3
        }
      ]
    },
    {
      "cell_type": "markdown",
      "source": [
        "Write a program that takes a string as input and checks whether it is a palindrome. A palindrome is a word, phrase, number, or other sequence of characters that reads the same forward and backward. Implement the solution using string manipulation."
      ],
      "metadata": {
        "id": "gYag-thxRYgr"
      }
    },
    {
      "cell_type": "code",
      "source": [
        "string = \"GARAG\"\n",
        "string == string[::-1]\n"
      ],
      "metadata": {
        "colab": {
          "base_uri": "https://localhost:8080/"
        },
        "id": "U-6Vv6yJROB3",
        "outputId": "5d5457ce-ea60-440b-fe7f-3b142dd505e7"
      },
      "execution_count": 6,
      "outputs": [
        {
          "output_type": "execute_result",
          "data": {
            "text/plain": [
              "True"
            ]
          },
          "metadata": {},
          "execution_count": 6
        }
      ]
    },
    {
      "cell_type": "code",
      "source": [
        "string = \"GARAG\"\n",
        "list(string) == list(reversed(string))\n",
        "print(list(string))"
      ],
      "metadata": {
        "colab": {
          "base_uri": "https://localhost:8080/"
        },
        "id": "2DmOb_1rRvsT",
        "outputId": "800ad15d-03b6-4af3-c4cf-ea28ae40ce99"
      },
      "execution_count": 12,
      "outputs": [
        {
          "output_type": "stream",
          "name": "stdout",
          "text": [
            "['G', 'A', 'R', 'A', 'G']\n"
          ]
        }
      ]
    },
    {
      "cell_type": "code",
      "source": [],
      "metadata": {
        "id": "7rkUGTN07vQJ"
      },
      "execution_count": null,
      "outputs": []
    }
  ]
}