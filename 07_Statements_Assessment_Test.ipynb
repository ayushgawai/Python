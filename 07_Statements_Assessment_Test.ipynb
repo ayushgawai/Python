{
  "cells": [
    {
      "cell_type": "markdown",
      "metadata": {
        "id": "view-in-github",
        "colab_type": "text"
      },
      "source": [
        "<a href=\"https://colab.research.google.com/github/ayushgawai/Python/blob/main/07_Statements_Assessment_Test.ipynb\" target=\"_parent\"><img src=\"https://colab.research.google.com/assets/colab-badge.svg\" alt=\"Open In Colab\"/></a>"
      ]
    },
    {
      "cell_type": "markdown",
      "metadata": {
        "id": "-euAxlv7eF9o"
      },
      "source": [
        "___\n",
        "\n",
        "<a href='https://www.udemy.com/user/joseportilla/'><img src='../Pierian_Data_Logo.png'/></a>\n",
        "___\n",
        "<center><em>Content Copyright by Pierian Data</em></center>"
      ]
    },
    {
      "cell_type": "markdown",
      "metadata": {
        "collapsed": true,
        "id": "3CLeyGQkeF9q"
      },
      "source": [
        "# Statements Assessment Test\n",
        "Let's test your knowledge!"
      ]
    },
    {
      "cell_type": "markdown",
      "metadata": {
        "id": "cD5zD9-AeF9q"
      },
      "source": [
        "_____\n",
        "**Use <code>for</code>, .split(), and <code>if</code> to create a Statement that will print out words that start with 's':**"
      ]
    },
    {
      "cell_type": "code",
      "execution_count": 2,
      "metadata": {
        "collapsed": true,
        "id": "DjsWHoAMeF9q"
      },
      "outputs": [],
      "source": [
        "st = 'Print only the words that start with s in this sentence'"
      ]
    },
    {
      "cell_type": "code",
      "execution_count": 5,
      "metadata": {
        "collapsed": true,
        "colab": {
          "base_uri": "https://localhost:8080/"
        },
        "id": "f5tzdX62eF9r",
        "outputId": "14c83c3b-ef1c-486c-ea05-b8ae2b86fb81"
      },
      "outputs": [
        {
          "output_type": "stream",
          "name": "stdout",
          "text": [
            "start\n",
            "s\n",
            "sentence\n"
          ]
        }
      ],
      "source": [
        "for letter in st.split(\" \"):\n",
        "  if letter[0].lower() == 's':\n",
        "    print(letter)"
      ]
    },
    {
      "cell_type": "markdown",
      "metadata": {
        "id": "ct_SBtAneF9r"
      },
      "source": [
        "______\n",
        "**Use range() to print all the even numbers from 0 to 10.**"
      ]
    },
    {
      "cell_type": "code",
      "execution_count": 8,
      "metadata": {
        "collapsed": true,
        "colab": {
          "base_uri": "https://localhost:8080/"
        },
        "id": "89OTGoPgeF9s",
        "outputId": "75944437-bb82-4206-abcc-e2a84e4f50d6"
      },
      "outputs": [
        {
          "output_type": "stream",
          "name": "stdout",
          "text": [
            "0\n",
            "2\n",
            "4\n",
            "6\n",
            "8\n"
          ]
        }
      ],
      "source": [
        "#Code Here\n",
        "\n",
        "for i in range(0,10):\n",
        "  if i%2==0:\n",
        "    print(i)"
      ]
    },
    {
      "cell_type": "markdown",
      "metadata": {
        "id": "89vTocPOeF9s"
      },
      "source": [
        "___\n",
        "**Use a List Comprehension to create a list of all numbers between 1 and 50 that are divisible by 3.**"
      ]
    },
    {
      "cell_type": "code",
      "execution_count": 9,
      "metadata": {
        "collapsed": true,
        "colab": {
          "base_uri": "https://localhost:8080/"
        },
        "id": "cH-aeKdLeF9s",
        "outputId": "78c1e7e2-14dc-4d87-f38e-12952d428651"
      },
      "outputs": [
        {
          "output_type": "execute_result",
          "data": {
            "text/plain": [
              "[3, 6, 9, 12, 15, 18, 21, 24, 27, 30, 33, 36, 39, 42, 45, 48]"
            ]
          },
          "metadata": {},
          "execution_count": 9
        }
      ],
      "source": [
        "#Code in this cell\n",
        "[num for num in range(1,50) if num%3==0]"
      ]
    },
    {
      "cell_type": "markdown",
      "metadata": {
        "id": "6eVzIV-geF9s"
      },
      "source": [
        "_____\n",
        "**Go through the string below and if the length of a word is even print \"even!\"**"
      ]
    },
    {
      "cell_type": "code",
      "execution_count": 11,
      "metadata": {
        "collapsed": true,
        "id": "I0TPbfV-eF9s"
      },
      "outputs": [],
      "source": [
        "st = 'Print every word in this sentence that has an even number of letters'\n"
      ]
    },
    {
      "cell_type": "code",
      "execution_count": 12,
      "metadata": {
        "collapsed": true,
        "colab": {
          "base_uri": "https://localhost:8080/"
        },
        "id": "bBg3oTa6eF9t",
        "outputId": "2c7f2b7e-789d-40ad-af39-bfa25f6f4344"
      },
      "outputs": [
        {
          "output_type": "stream",
          "name": "stdout",
          "text": [
            "word\n",
            "in\n",
            "this\n",
            "sentence\n",
            "that\n",
            "an\n",
            "even\n",
            "number\n",
            "of\n"
          ]
        }
      ],
      "source": [
        "#Code in this cell\n",
        "ls = st.split(\" \")\n",
        "for word in ls:\n",
        "  if len(word)%2==0:\n",
        "    print(word)"
      ]
    },
    {
      "cell_type": "markdown",
      "metadata": {
        "id": "8m-cm9QJeF9t"
      },
      "source": [
        "____\n",
        "**Write a program that prints the integers from 1 to 100. But for multiples of three print \"Fizz\" instead of the number, and for the multiples of five print \"Buzz\". For numbers which are multiples of both three and five print \"FizzBuzz\".**"
      ]
    },
    {
      "cell_type": "code",
      "execution_count": 16,
      "metadata": {
        "collapsed": true,
        "colab": {
          "base_uri": "https://localhost:8080/"
        },
        "id": "H-YTP_WgeF9t",
        "outputId": "ab39c13e-ecd0-4f90-fdac-e17862a671e9"
      },
      "outputs": [
        {
          "output_type": "stream",
          "name": "stdout",
          "text": [
            "1\n",
            "2\n",
            "Fizz\n",
            "3\n",
            "4\n",
            "Buzz\n",
            "Fizz\n",
            "6\n",
            "7\n",
            "8\n",
            "Fizz\n",
            "9\n",
            "Buzz\n",
            "11\n",
            "Fizz\n",
            "12\n",
            "13\n",
            "14\n",
            "Fizz\n",
            "Buzz\n",
            "16\n",
            "17\n",
            "Fizz\n",
            "18\n",
            "19\n",
            "Buzz\n",
            "Fizz\n",
            "21\n",
            "22\n",
            "23\n",
            "Fizz\n",
            "24\n",
            "Buzz\n",
            "26\n",
            "Fizz\n",
            "27\n",
            "28\n",
            "29\n",
            "Fizz\n",
            "Buzz\n",
            "31\n",
            "32\n",
            "Fizz\n",
            "33\n",
            "34\n",
            "Buzz\n",
            "Fizz\n",
            "36\n",
            "37\n",
            "38\n",
            "Fizz\n",
            "39\n",
            "Buzz\n",
            "41\n",
            "Fizz\n",
            "42\n",
            "43\n",
            "44\n",
            "Fizz\n",
            "Buzz\n",
            "46\n",
            "47\n",
            "Fizz\n",
            "48\n",
            "49\n",
            "Buzz\n",
            "Fizz\n",
            "51\n",
            "52\n",
            "53\n",
            "Fizz\n",
            "54\n",
            "Buzz\n",
            "56\n",
            "Fizz\n",
            "57\n",
            "58\n",
            "59\n",
            "Fizz\n",
            "Buzz\n",
            "61\n",
            "62\n",
            "Fizz\n",
            "63\n",
            "64\n",
            "Buzz\n",
            "Fizz\n",
            "66\n",
            "67\n",
            "68\n",
            "Fizz\n",
            "69\n",
            "Buzz\n",
            "71\n",
            "Fizz\n",
            "72\n",
            "73\n",
            "74\n",
            "Fizz\n",
            "Buzz\n",
            "76\n",
            "77\n",
            "Fizz\n",
            "78\n",
            "79\n",
            "Buzz\n",
            "Fizz\n",
            "81\n",
            "82\n",
            "83\n",
            "Fizz\n",
            "84\n",
            "Buzz\n",
            "86\n",
            "Fizz\n",
            "87\n",
            "88\n",
            "89\n",
            "Fizz\n",
            "Buzz\n",
            "91\n",
            "92\n",
            "Fizz\n",
            "93\n",
            "94\n",
            "Buzz\n",
            "Fizz\n",
            "96\n",
            "97\n",
            "98\n",
            "Fizz\n",
            "99\n"
          ]
        }
      ],
      "source": [
        "#Code in this cell\n",
        "\n",
        "for i in range(1,100):\n",
        "  if i%3==0:\n",
        "    print(\"Fizz\")\n",
        "  if i%5==0:\n",
        "    print(\"Buzz\")\n",
        "  else:\n",
        "    print(i)"
      ]
    },
    {
      "cell_type": "markdown",
      "metadata": {
        "id": "1YD1-agteF9t"
      },
      "source": [
        "____\n",
        "**Use List Comprehension to create a list of the first letters of every word in the string below:**"
      ]
    },
    {
      "cell_type": "code",
      "execution_count": 22,
      "metadata": {
        "collapsed": true,
        "id": "V2_sX00meF9t"
      },
      "outputs": [],
      "source": [
        "st = 'Create a list of the first letters of every word in this string'"
      ]
    },
    {
      "cell_type": "code",
      "execution_count": 23,
      "metadata": {
        "collapsed": true,
        "colab": {
          "base_uri": "https://localhost:8080/"
        },
        "id": "e7xGfLoTeF9t",
        "outputId": "2acc40a3-0c43-4fe4-d9f1-e328bb6c8e4a"
      },
      "outputs": [
        {
          "output_type": "execute_result",
          "data": {
            "text/plain": [
              "['C', 'a', 'l', 'o', 't', 'f', 'l', 'o', 'e', 'w', 'i', 't', 's']"
            ]
          },
          "metadata": {},
          "execution_count": 23
        }
      ],
      "source": [
        "#Code in this cell\n",
        "\n",
        "[first_letter[0] for first_letter in st.split()]"
      ]
    },
    {
      "cell_type": "markdown",
      "metadata": {
        "id": "nhuKAfhLeF9u"
      },
      "source": [
        "### Great Job!"
      ]
    }
  ],
  "metadata": {
    "kernelspec": {
      "display_name": "Python 3",
      "language": "python",
      "name": "python3"
    },
    "language_info": {
      "codemirror_mode": {
        "name": "ipython",
        "version": 3
      },
      "file_extension": ".py",
      "mimetype": "text/x-python",
      "name": "python",
      "nbconvert_exporter": "python",
      "pygments_lexer": "ipython3",
      "version": "3.6.6"
    },
    "colab": {
      "provenance": [],
      "include_colab_link": true
    }
  },
  "nbformat": 4,
  "nbformat_minor": 0
}